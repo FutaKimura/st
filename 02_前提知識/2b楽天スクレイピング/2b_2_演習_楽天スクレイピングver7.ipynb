{
 "cells": [
  {
   "attachments": {},
   "cell_type": "markdown",
   "id": "e1b39c78",
   "metadata": {},
   "source": [
    "# スクレイピングの実践\n",
    "\n",
    "\n",
    "目次https://docs.google.com/document/d/1tA8OJW3plW6nMc6tqjrjIqmov70FTC9ITL9NhN0oa3g/edit?usp=sharing\n",
    "\n"
   ]
  },
  {
   "attachments": {},
   "cell_type": "markdown",
   "id": "65f65f7a",
   "metadata": {},
   "source": [
    "## 1.なぜスクレイピングが必要か"
   ]
  },
  {
   "cell_type": "markdown",
   "id": "91bddedd",
   "metadata": {},
   "source": [
    "### 1.1目的"
   ]
  },
  {
   "attachments": {},
   "cell_type": "markdown",
   "id": "53b15cca",
   "metadata": {},
   "source": [
    "サービスが欲しい情報を提供するためのAPIを公開していない場合、HTMLから直接情報を抜く方法としてスクレイピングが選択肢に上がります。"
   ]
  },
  {
   "attachments": {},
   "cell_type": "markdown",
   "id": "21261282",
   "metadata": {},
   "source": [
    "### 1.2スクレイピングとは"
   ]
  },
  {
   "attachments": {},
   "cell_type": "markdown",
   "id": "a26d98df",
   "metadata": {},
   "source": [
    "スクレイピングとは、ウェブサイトからデータを自動的に収集するプログラムを作成することです。  \n",
    "スクレイピングを行うためには、WebページのHTMLコードを解析して、必要な情報を抽出する必要があります。\n",
    "\n",
    "一般的に、スクレイピングは以下の手順で行われます。\n",
    "- スクレイピングする対象のWebページのURLを指定する。\n",
    "- WebページのHTMLコードをダウンロードする。\n",
    "- HTMLコードから必要な情報を抽出する。\n",
    "- 抽出した情報を保存する。\n",
    "\n",
    "注意点として、スクレイピングはウェブサイトの利用規約に違反しないように注意する必要があります。適切なスクレイピングの方法と頻度の制御が重要です。"
   ]
  },
  {
   "attachments": {},
   "cell_type": "markdown",
   "id": "9c5870a1",
   "metadata": {},
   "source": [
    "<img src=\"img/img021.jpg\">"
   ]
  },
  {
   "attachments": {},
   "cell_type": "markdown",
   "id": "d39b1e4b",
   "metadata": {},
   "source": [
    "参照：https://www.octoparse.jp/blog/web-scraping/"
   ]
  },
  {
   "attachments": {},
   "cell_type": "markdown",
   "id": "64f2a169",
   "metadata": {},
   "source": [
    "禁止事項を確認してみましょう！\n",
    "\n",
    "- 把握のためにどういう事が禁止されているか見てみましょう！\n",
    "    - 条件が厳しいsuumoで全体像を確認してみましょう！\n",
    "        - https://suumo.jp/robots.txt\n",
    "    - 規制があまりない楽天トラベル\n",
    "        - http://travel.rakuten.co.jp/robots.txt"
   ]
  },
  {
   "attachments": {},
   "cell_type": "markdown",
   "id": "b676d727",
   "metadata": {},
   "source": [
    "### 1.3.情報取得方法としてのAPIとスクレイピングの比較"
   ]
  },
  {
   "attachments": {},
   "cell_type": "markdown",
   "id": "53598fc5",
   "metadata": {},
   "source": [
    "冒頭にも記載の通り、情報取得という目的に対してAPIとスクレイピングはオルタナティブになります。ここで両者の相違点に着目して理解を深めましょう。  \n",
    "APIによって提供される情報は、APIの設計者が決定した範囲内でのみ利用可能です。\n",
    "例えば、楽天が情報提供するデータは楽天が所持しているデータのみで、他のデータは別のAPIで取得する必要があります。  \n",
    "一方、スクレイピングは、APIの有無に関わらず、多数のウェブサイトから情報を収集することが可能です。多様な情報を取得ができる点が大きな違いです。  \n",
    "\n",
    "APIは呼び出しに料金が必要な場合や呼び出しの最大数も制限がある事があり、メリット・デメリットが存在します。"
   ]
  },
  {
   "attachments": {},
   "cell_type": "markdown",
   "id": "86bd3c86",
   "metadata": {},
   "source": [
    "#### APIのメリットデメリット"
   ]
  },
  {
   "attachments": {},
   "cell_type": "markdown",
   "id": "f5b5d341",
   "metadata": {},
   "source": [
    "メリット\n",
    "- 早く開発できる\n",
    "- スマホアプリなどの連携が容易\n",
    "- スクレイピングに比べて仕様変更の作業コストが安い\n",
    "\n",
    "デメリット\n",
    "- APIの提供中止  \n",
    "- APIが有料化する  \n",
    "- APIの料金変更"
   ]
  },
  {
   "attachments": {},
   "cell_type": "markdown",
   "id": "f02e0f1f",
   "metadata": {},
   "source": [
    "#### スクレイピングのメリットデメリット"
   ]
  },
  {
   "attachments": {},
   "cell_type": "markdown",
   "id": "547779ca",
   "metadata": {},
   "source": [
    "メリット\n",
    "- 多様な情報をまとめたデータを構築できる\n",
    "- 利用料金がない\n",
    "- 自分で作ったコードなので、提供中止にならない\n",
    "\n",
    "デメリット\n",
    "- サイト側の仕様変更に対応しなければならない\n",
    "- 作成コストが高い\n",
    "- 取得が許可された範囲を確認する必要性あり"
   ]
  },
  {
   "attachments": {},
   "cell_type": "markdown",
   "id": "b5b9dda0",
   "metadata": {},
   "source": [
    "## 2.スクレイピングの実践"
   ]
  },
  {
   "attachments": {},
   "cell_type": "markdown",
   "id": "ea05a01f",
   "metadata": {},
   "source": [
    "### 2.1.スクレイピングのために使う代表的なライブラリ：beautifulsoup4"
   ]
  },
  {
   "attachments": {},
   "cell_type": "markdown",
   "id": "7e477164",
   "metadata": {},
   "source": [
    "#### beautifulsoup4とは"
   ]
  },
  {
   "attachments": {},
   "cell_type": "markdown",
   "id": "e6d9e750",
   "metadata": {},
   "source": [
    "Pythonのライブラリであり、httpリクエストで得られたHTMLやXMLなどの構造化されたドキュメントから情報を抽出するために使用されます。Webスクレイピングに最適なライブラリの1つです。\n",
    "\n",
    "httpリクエストライブラリのrequestsで得られたhtmlデータの中からHTMLタグ、属性、テキストコンテンツなどを簡単に検索、抽出することができます。"
   ]
  },
  {
   "attachments": {},
   "cell_type": "markdown",
   "id": "612d7d29",
   "metadata": {},
   "source": [
    "<img src=\"img/img022.png\">"
   ]
  },
  {
   "attachments": {},
   "cell_type": "markdown",
   "id": "01cd19d0",
   "metadata": {},
   "source": [
    "参照：https://itdepends.hateblo.jp/entry/2020/02/26/000120"
   ]
  },
  {
   "attachments": {},
   "cell_type": "markdown",
   "id": "bc9473dd",
   "metadata": {},
   "source": [
    "#### beautifulsoup4をインストールしましょう"
   ]
  },
  {
   "attachments": {},
   "cell_type": "markdown",
   "id": "ef188776",
   "metadata": {},
   "source": [
    "ターミナルでpip install beautifulsoup4でインストールできます。"
   ]
  },
  {
   "attachments": {},
   "cell_type": "markdown",
   "id": "2e72a83d",
   "metadata": {},
   "source": [
    "### 2.2使い方の具体例"
   ]
  },
  {
   "attachments": {},
   "cell_type": "markdown",
   "id": "e7991f52",
   "metadata": {},
   "source": [
    ">全体像"
   ]
  },
  {
   "attachments": {},
   "cell_type": "markdown",
   "id": "0249ab26",
   "metadata": {},
   "source": [
    "具体例として、楽天トラベルのサイトから以下の画像にある4つの情報を取得します。  \n",
    "取得する場所はhttps://travel.rakuten.co.jp/yado/okinawa/nahashi.htmlです。\n",
    "\n",
    "注意点として、このサイトではアクセスするたびに掲載されているホテル情報が変わる為、取得できる情報が那覇ウエスト・インでなくても構いません。\n",
    "\n",
    "1. タイトル（那覇ウエスト・イン）\n",
    "1. 値段の数字（[最安料金] 2,450円〜）\n",
    "1. 評価（4.28）\n",
    "1. 住所（〒900-0036　沖縄県那覇市西1-16-7[地図を見る]）"
   ]
  },
  {
   "attachments": {},
   "cell_type": "markdown",
   "id": "91361cca",
   "metadata": {},
   "source": [
    "<img src=\"img/img023.png\">"
   ]
  },
  {
   "attachments": {},
   "cell_type": "markdown",
   "id": "752d5134",
   "metadata": {},
   "source": [
    ">解説の流れ"
   ]
  },
  {
   "attachments": {},
   "cell_type": "markdown",
   "id": "0fa3ba09",
   "metadata": {},
   "source": [
    "取得する流れは以下のようになります。\n",
    "\n",
    "1. 取得したいサイトからデータを取得する準備\n",
    "    1. requestsの機能をインポート\n",
    "    1. BeautifulSoupの機能をインポート\n",
    "    1. requestsでhtmlのデータを取得\n",
    "    1. BeautifulSoupに読み込ませて欲しい要素を検索可能状態にする\n",
    "1. 欲しい情報を取得\n",
    "    1. htmlの構造を確認\n",
    "    1. どのcssセレクタの条件で絞り込みできるか考える\n",
    "    1. どのhtml範囲から取得するか考える\n",
    "    1. 抽出する範囲のhtmlを取得\n",
    "    1. 取得したhtmlから欲しい情報を取得\n",
    "1. 取得した情報整理\n",
    "    1. 余分な文字データをreplaceで整理"
   ]
  },
  {
   "attachments": {},
   "cell_type": "markdown",
   "id": "f524dc2c",
   "metadata": {},
   "source": [
    ">実際のコード"
   ]
  },
  {
   "attachments": {},
   "cell_type": "markdown",
   "id": "d0c14854",
   "metadata": {},
   "source": [
    "1.取得したいサイトからデータを取得する準備"
   ]
  },
  {
   "attachments": {},
   "cell_type": "markdown",
   "id": "19d76a8c",
   "metadata": {},
   "source": [
    "requestsで楽天トラベルを取得します。"
   ]
  },
  {
   "cell_type": "code",
   "execution_count": 1,
   "id": "1eda0a31",
   "metadata": {},
   "outputs": [],
   "source": [
    "# requests機能をインポートします。\n",
    "#アクセス先をREQUEST_URLを代入します。\n",
    "#リクエストしたデータをresに代入します。\n",
    "# resの文字データがISO-8859-1なので、utf-8に変換して文字化けを防止します。"
   ]
  },
  {
   "attachments": {},
   "cell_type": "markdown",
   "id": "ddc4f612",
   "metadata": {},
   "source": [
    "取得したデータをbeautifulsoup4が解析できるようにします。"
   ]
  },
  {
   "cell_type": "code",
   "execution_count": 2,
   "id": "ea8568f9",
   "metadata": {},
   "outputs": [],
   "source": [
    "# BeautifulSoupの機能をインポートします。\n",
    "# BeautifulSoup(解析したいデータ,解析する方法)を指定し、解析したデータをsoupに代入します。"
   ]
  },
  {
   "attachments": {},
   "cell_type": "markdown",
   "id": "f0197084",
   "metadata": {},
   "source": [
    "これで取得したhtmlデータから欲しい情報を取得できるようになりました。  "
   ]
  },
  {
   "attachments": {},
   "cell_type": "markdown",
   "id": "467c022a",
   "metadata": {},
   "source": [
    "2.欲しい情報を取得"
   ]
  },
  {
   "attachments": {},
   "cell_type": "markdown",
   "id": "3c2ae043",
   "metadata": {},
   "source": [
    "欲しい情報がどのようなhtml構成をしているかを確認します。\n",
    "\n",
    "欲しい情報があるhtml要素にpadding:20px;などのcssを適応しようとしたらどのようなcssセレクタを指定すればよいのかを意識しながら確認します。  \n",
    "理由は、BeautifulSoupも同様にそのcssセレクタに該当するhtml要素を取得するためです。\n",
    "\n",
    "以下がcssセレクタの例です\n",
    "- h1 a\n",
    "- .htlPrice\n",
    "\n",
    "方法はブラウザで右クリックまたは２本指タップでメニューを出し、”ページのソースを表示”を選択して、下記のような画面を出します。\n",
    "欲しいhtml要素の特定はctrl + Fまたはcommand + Fで住所を検索すると良いでしょう！"
   ]
  },
  {
   "attachments": {},
   "cell_type": "markdown",
   "id": "d18c3198",
   "metadata": {},
   "source": [
    "<img src=\"img/img024.png\">"
   ]
  },
  {
   "attachments": {},
   "cell_type": "markdown",
   "id": "cabab352",
   "metadata": {},
   "source": [
    "このサイトでは、欲しい情報を以下のcssセレクタで取得できます。\n",
    "- h1 a\n",
    "- p.htlPrice span\n",
    "- p.cstmrEvl strong\n",
    "- p.htlAccess"
   ]
  },
  {
   "attachments": {},
   "cell_type": "markdown",
   "id": "41718a51",
   "metadata": {},
   "source": [
    "ですが、問題点はこのセレクターでは該当するhtmlを１つに絞る事ができません。   \n",
    "理由は、このcssセレクタをもつhtml要素が複数存在するからです。\n",
    "\n",
    "また、どこを取得したか把握しずらいので、問題が起きた時に修正ができません。"
   ]
  },
  {
   "attachments": {},
   "cell_type": "markdown",
   "id": "91c227a0",
   "metadata": {},
   "source": [
    "対策として、１度に欲しい情報を取得するのではなく、htmlの一部を取得してその中から欲しい情報を取得します。\n",
    "\n",
    "例として、sectionのcssセレクタを活用して、htmlの一部を取得した場合を考えます。   \n",
    "このサイトでsectionタグで限定した場合、以下の画像のような範囲のhtmlを取得できます。"
   ]
  },
  {
   "attachments": {},
   "cell_type": "markdown",
   "id": "4644ceab",
   "metadata": {},
   "source": [
    "<img src=\"img/img025.png\">"
   ]
  },
  {
   "attachments": {},
   "cell_type": "markdown",
   "id": "608b0c8b",
   "metadata": {},
   "source": [
    "今回は3つ目のsectionに那覇ウエスト・インの情報が存在するので、変数hotel_sectionに3つ目のsectionのhtmlを代入しておきます。  \n",
    "注意点として、このサイトではアクセスするたびに掲載されているホテル情報が変わる為、取得できる情報が那覇ウエスト・インでなくても構いません。\n",
    "\n",
    "全体のhtmlが変数soupに格納されていて、  \n",
    "今から変数soupに格納されたhtmlからcssセレクタのsectionを条件に抽出したhtmlを変数hotel_sectionに代入します。\n",
    "\n",
    "抽出の仕方は   \n",
    "htmlが格納されている変数.select(\"ここにcssセレクタ\")になります。\n",
    "\n",
    "注意点として.selectで取得した場合は、  \n",
    "１つだけも複数のhtmlデータも配列として取得するので、必ず取得したデータは配列の何番目に格納されているか確認しましょう！  \n",
    "１つだけを取得する.select_oneの場合は配列ではなく、htmlとして取得するので配列などは気にしなくて良いです。\n",
    "\n",
    "今回は取得したhtml要素の３つ目のhtml要素を代入したいので、[2]も付けておきます。"
   ]
  },
  {
   "cell_type": "code",
   "execution_count": 3,
   "id": "5ef6a13b",
   "metadata": {},
   "outputs": [],
   "source": [
    "# html全体を格納しているsoupからsectionというcssセレクタを使って抽出"
   ]
  },
  {
   "attachments": {},
   "cell_type": "markdown",
   "id": "c59f7243",
   "metadata": {},
   "source": [
    "一部のhtmlから以下のcssセレクタで欲しい情報を取得してみましょう。\n",
    "\n",
    "このcssセレクタをもつcssは１つしか存在しないので、select_oneも解説として使用してみます。\n",
    "\n",
    "- h1 a\n",
    "- p.htlPrice span\n",
    "- p.cstmrEvl strong\n",
    "- p.htlAccess"
   ]
  },
  {
   "cell_type": "code",
   "execution_count": 4,
   "id": "3662fc00",
   "metadata": {},
   "outputs": [],
   "source": [
    "# sctionの３番目のhtmlを格納しているsoupからh1 aというcssセレクタを使って抽出\n",
    "# sctionの３番目のhtmlを格納しているsoupからp.htlPrice spanというcssセレクタを使って抽出\n",
    "# sctionの３番目のhtmlを格納しているsoupからp.cstmrEvl strongというcssセレクタを使って抽出\n",
    "# sctionの３番目のhtmlを格納しているsoupからp.htlAccessというcssセレクタを使って抽出"
   ]
  },
  {
   "attachments": {},
   "cell_type": "markdown",
   "id": "a50f7ca8",
   "metadata": {},
   "source": [
    "取得できた欲しい情報のhtmlをそれぞれの変数に代入しておきます\n",
    "- hotelName （ホテル名）\n",
    "- hotelMinCharge （ホテルの料金）\n",
    "- reviewAverage （ホテル評価）\n",
    "- hotel_locate （ホテル住所）"
   ]
  },
  {
   "cell_type": "code",
   "execution_count": 5,
   "id": "50692e31",
   "metadata": {},
   "outputs": [],
   "source": [
    "#hotelName, hotelMinCharge, reviewAverage, hotel_locateの変数に入れる"
   ]
  },
  {
   "attachments": {},
   "cell_type": "markdown",
   "id": "c092f725",
   "metadata": {},
   "source": [
    "3.取得した情報整理"
   ]
  },
  {
   "attachments": {},
   "cell_type": "markdown",
   "id": "7fefaced",
   "metadata": {},
   "source": [
    "htmlからテキストを抽出する場合は、.textを使います。  \n",
    "今回は使用しませんがhtmlからURLを抽出する場合は、[\"href\"]を使います。\n",
    "\n",
    "参考としてhotel_section.select(\"h1 a\")からテキストデータとURLを抽出してみます。"
   ]
  },
  {
   "cell_type": "code",
   "execution_count": 6,
   "id": "6db9bc3b",
   "metadata": {},
   "outputs": [],
   "source": [
    "#hotel_section.select_one(\"h1 a\").textで抽出"
   ]
  },
  {
   "cell_type": "code",
   "execution_count": 7,
   "id": "5cddc6ba",
   "metadata": {},
   "outputs": [],
   "source": [
    "#select_one(\"h1 a\")[\"href\"]でリンクを取得"
   ]
  },
  {
   "attachments": {},
   "cell_type": "markdown",
   "id": "8744cf41",
   "metadata": {},
   "source": [
    "余計な文字列を削除して整理する解説として、hotel_locateに格納した住所を含むhtmlを例として挙げます。   \n",
    ".textをつけて、htmlから文字を抽出します。"
   ]
  },
  {
   "cell_type": "code",
   "execution_count": 8,
   "id": "c0687144",
   "metadata": {},
   "outputs": [],
   "source": [
    "# .textで文字取得"
   ]
  },
  {
   "attachments": {},
   "cell_type": "markdown",
   "id": "31b342b6",
   "metadata": {},
   "source": [
    "\\nやスペースなど必要ない文字を含んでいます。  \n",
    "これらはpython標準の関数であるreplaceで整理していきます。\n",
    "\n",
    "使い方は.replace(\"ここに置き換えたい文字\",\"置き換える文字\")で置換可能です。  \n",
    "\"置き換える文字\"を空欄である\"\"にすることで、削除のような処理になります。\n",
    "\n",
    "サンプルとして、\\nを削除します。"
   ]
  },
  {
   "cell_type": "code",
   "execution_count": 9,
   "id": "720dec20",
   "metadata": {},
   "outputs": [],
   "source": [
    "# .replace(\"ここに置き換えたい文字\",\"置き換える文字\")"
   ]
  },
  {
   "attachments": {},
   "cell_type": "markdown",
   "id": "f9e28f56",
   "metadata": {},
   "source": [
    "またreplace関数は複数回使用可能なので、スペースも全角スペース、[地図を見る]も削除して整理します。"
   ]
  },
  {
   "cell_type": "code",
   "execution_count": 10,
   "id": "6cd5497b",
   "metadata": {},
   "outputs": [],
   "source": [
    "#地図を見るという言葉もリプレイスで消しておく\n"
   ]
  },
  {
   "attachments": {},
   "cell_type": "markdown",
   "id": "9b3fd718",
   "metadata": {},
   "source": [
    "このようにreplaceを活用して、取得した４つのhtml情報を整理すると、欲しい情報だけを取得する事ができます。"
   ]
  },
  {
   "cell_type": "code",
   "execution_count": 11,
   "id": "3cf68f4a",
   "metadata": {},
   "outputs": [],
   "source": [
    "# print(hotelName.text)\n",
    "# print(hotelMinCharge.text.replace(\"円〜\",\"\").replace(\",\",\"\"))\n",
    "# print(reviewAverage.text)\n",
    "# print(hotel_locate.text.replace(\"\\n\",\"\").replace(\" \",\"\").replace(\"[地図を見る]\",\"\").replace(\"　\",\"\"))"
   ]
  },
  {
   "attachments": {},
   "cell_type": "markdown",
   "id": "f2d7ca1a",
   "metadata": {},
   "source": [
    "以上がBeautifulSoupの使い方の例です。"
   ]
  },
  {
   "attachments": {},
   "cell_type": "markdown",
   "id": "5b97170e",
   "metadata": {},
   "source": [
    "### 2.3この講座でやる事の全体像"
   ]
  },
  {
   "attachments": {},
   "cell_type": "markdown",
   "id": "2844e480",
   "metadata": {},
   "source": [
    "取得する情報は以下の4つです。\n",
    "- ホテル名\n",
    "- ホテルの値段\n",
    "- ホテルの評価\n",
    "- ホテルの住所\n",
    "\n",
    "以下の項目はスクレイピングをする時の流れになります。  \n",
    "実際にスクレイピングのコーディングしようとすると、必ず試行錯誤が必要なので、  \n",
    "試行錯誤を3回含んでいます。\n",
    "\n",
    "1. スクレイピング可能か確認\n",
    "    1. 規約でスクレイピングするURLがDisallowの項目に入っていないかの確認\n",
    "1. スクレイピングの準備\n",
    "    1. ライブラリのインポート\n",
    "    1. requestsでhtmlデータ取得\n",
    "    1. 文字化けしてないかのチェック\n",
    "    1. 文字化けしていた場合の対処\n",
    "    1. BeautifulSoupでhtml解析\n",
    "1. 試行錯誤その１\n",
    "    1. h1.premium_normalですべての情報を取得できるか確認\n",
    "1. 試行錯誤その２\n",
    "    1. section h1 aですべての情報を取得できるか確認\n",
    "1. 試行錯誤その３\n",
    "    1. 欲しい情報にすべて書かれている[最安料金]という文字に着目してスクレイピングの構造を考える\n",
    "    1. 表示されている32件ではなく、全部で36件もデータが存在する事が判明\n",
    "    1. 36件のデータを取得するための条件を考える\n",
    "    1. sectionを条件にhtmlを分割\n",
    "    1. 分割したhtmlから欲しい情報を含むhtmlを1つずつ抽出\n",
    "    1. htmlから欲しい情報だけを抽出\n",
    "1. pandasを活用してデータにまとめる\n",
    "    1. 抽出した配列をDataFrameへ\n",
    "    1. 重複をチェック\n",
    "    1. データ整理"
   ]
  },
  {
   "attachments": {},
   "cell_type": "markdown",
   "id": "8e8e709d",
   "metadata": {},
   "source": [
    "### 2.4実際にコーディング"
   ]
  },
  {
   "attachments": {},
   "cell_type": "markdown",
   "id": "e50fe0d8",
   "metadata": {},
   "source": [
    "#### 2.4.1.規約の確認\n"
   ]
  },
  {
   "attachments": {},
   "cell_type": "markdown",
   "id": "6b10dd58",
   "metadata": {},
   "source": [
    "http://travel.rakuten.co.jp/robots.txt  \n",
    "取得して良いか確認しましょう"
   ]
  },
  {
   "attachments": {},
   "cell_type": "markdown",
   "id": "2ae9bdc4",
   "metadata": {},
   "source": [
    "Disallow: /cgi-bin/  \n",
    "Disallow: /B2B/  \n",
    "Disallow: /*_trvmkt*  \n",
    "\n",
    "なので、\n",
    "1. サイトURL+/cgi-bin/\n",
    "1. サイトURL+/B2B/\n",
    "1. サイトURL+/*_trvmkt*\n",
    "\n",
    "この3つのURLでのスクレイピングが禁止されている事がわかります。\n",
    "\n",
    "今回はこの規約に載っていないので問題ありません。"
   ]
  },
  {
   "attachments": {},
   "cell_type": "markdown",
   "id": "a58d1bf3",
   "metadata": {},
   "source": [
    "#### 2.4.2.スクレイピング可能か確認"
   ]
  },
  {
   "attachments": {},
   "cell_type": "markdown",
   "id": "8c0d7eeb",
   "metadata": {},
   "source": [
    ">ライブラリのインポート"
   ]
  },
  {
   "attachments": {},
   "cell_type": "markdown",
   "id": "19ec6f3e",
   "metadata": {},
   "source": [
    "リクエストをするためのライブラリをインポートしておきましょう！"
   ]
  },
  {
   "cell_type": "code",
   "execution_count": 12,
   "id": "33d3a03a-f9aa-4ddd-93c8-7a2fb9bfdbf2",
   "metadata": {},
   "outputs": [],
   "source": [
    "# requestsとBeautifulSoupの機能をインポートします。\n"
   ]
  },
  {
   "attachments": {},
   "cell_type": "markdown",
   "id": "62249f0e",
   "metadata": {},
   "source": [
    ">requestsでhtmlデータ取得"
   ]
  },
  {
   "attachments": {},
   "cell_type": "markdown",
   "id": "35acaf47",
   "metadata": {},
   "source": [
    "requestsを使って、ブラウザのようにhtmlが取得できるかどうか確認してみましょう！  \n",
    "今回はパラメータは必要ないので、シンプルにrequests.get(REQUEST_URL)だけでいいです！"
   ]
  },
  {
   "cell_type": "code",
   "execution_count": 13,
   "id": "d4746fe0",
   "metadata": {},
   "outputs": [],
   "source": [
    "#アクセス先をREQUEST_URLを代入します。\n",
    "#リクエストしたデータをresに代入します。"
   ]
  },
  {
   "attachments": {},
   "cell_type": "markdown",
   "id": "74193b30",
   "metadata": {},
   "source": [
    ">文字化けしてないかのチェック"
   ]
  },
  {
   "attachments": {},
   "cell_type": "markdown",
   "id": "6990393e",
   "metadata": {},
   "source": [
    "通信の結果、返ってきたデータの中身はhtmlなので、res.textで確認してみましょう！"
   ]
  },
  {
   "cell_type": "code",
   "execution_count": 14,
   "id": "494ceff7-c45e-4fcc-9c3d-9ca37e007c8a",
   "metadata": {},
   "outputs": [],
   "source": [
    "#resのtextにサイトデータが格納されているので、それをresultに代入します。\n",
    "# printでサイトデータを確認します。"
   ]
  },
  {
   "attachments": {},
   "cell_type": "markdown",
   "id": "1564b300",
   "metadata": {},
   "source": [
    "一部文字化けしているので修正しましょう！  \n",
    "一般的に使われている文字コードはutf-8  \n",
    "そのコードが違うときに、別の文字が呼び出されて文字化けに見えます。"
   ]
  },
  {
   "cell_type": "code",
   "execution_count": 15,
   "id": "e5498962",
   "metadata": {},
   "outputs": [],
   "source": [
    "# res.encodingで文字エンコードを確認できます。"
   ]
  },
  {
   "attachments": {},
   "cell_type": "markdown",
   "id": "2ed9fedd",
   "metadata": {},
   "source": [
    ">文字化けしていた場合の対処"
   ]
  },
  {
   "attachments": {},
   "cell_type": "markdown",
   "id": "3ef99a2b",
   "metadata": {},
   "source": [
    "文字コードがISO-8859-1なので、utf-8に変更してみましょう！\n",
    "res.encoding = 'utf-8'でutf-8に上書きできます。"
   ]
  },
  {
   "cell_type": "code",
   "execution_count": 16,
   "id": "4f965bf7",
   "metadata": {},
   "outputs": [],
   "source": [
    "#文字エンコードを上書きします。\n",
    "# 文字化けしていないかhtmlを確認します。"
   ]
  },
  {
   "attachments": {},
   "cell_type": "markdown",
   "id": "e59ae17f",
   "metadata": {},
   "source": [
    ">BeautifulSoupでhtml解析"
   ]
  },
  {
   "attachments": {},
   "cell_type": "markdown",
   "id": "0fd373a1",
   "metadata": {},
   "source": [
    "htmlの内容を解析するためにbeautifulSoupにデータを格納しましょう！"
   ]
  },
  {
   "cell_type": "code",
   "execution_count": 17,
   "id": "f2142200-0855-477d-98e5-8c158094d42e",
   "metadata": {},
   "outputs": [],
   "source": [
    "# BeautifulSoup(解析したいデータ,解析する方法)を指定し、解析したデータをsoupに代入します。"
   ]
  },
  {
   "attachments": {},
   "cell_type": "markdown",
   "id": "0ac20d78",
   "metadata": {},
   "source": [
    "#### 2.4.3.試行錯誤その１"
   ]
  },
  {
   "attachments": {},
   "cell_type": "markdown",
   "id": "7dc72230",
   "metadata": {},
   "source": [
    "h1.premium_normalのcssセレクタで情報をすべてのホテル名を取得できるか確認してみましょう。  \n",
    "ブラウザで確認できるホテルの情報は32件あります。"
   ]
  },
  {
   "attachments": {},
   "cell_type": "markdown",
   "id": "394139d2",
   "metadata": {},
   "source": [
    "<img src=\"img/img029.png\">"
   ]
  },
  {
   "cell_type": "code",
   "execution_count": 18,
   "id": "04bb7fc0",
   "metadata": {},
   "outputs": [],
   "source": [
    "# h1.premium_normal aにホテルの名前があるので、このcssセレクタを利用してみましょう。\n",
    "# .select_one('ここにcssセレクタ')で抽出できます"
   ]
  },
  {
   "attachments": {},
   "cell_type": "markdown",
   "id": "0ecfa9f6",
   "metadata": {},
   "source": [
    "確認が取れたので、先ほどのセレクタで取得したすべてのホテル名をhotel_nameという変数に代入します。"
   ]
  },
  {
   "cell_type": "code",
   "execution_count": 19,
   "id": "87eee01f",
   "metadata": {},
   "outputs": [],
   "source": [
    "#hotel_nameに代入"
   ]
  },
  {
   "attachments": {},
   "cell_type": "markdown",
   "id": "dd50d8eb",
   "metadata": {},
   "source": [
    "取得したデータを確認してみましょう！"
   ]
  },
  {
   "cell_type": "code",
   "execution_count": 20,
   "id": "73eabc37",
   "metadata": {},
   "outputs": [],
   "source": [
    "#len(ここに要素を数えたい配列)で数を表示"
   ]
  },
  {
   "attachments": {},
   "cell_type": "markdown",
   "id": "ab2acef9",
   "metadata": {},
   "source": [
    "ブラウザで確認できる32件に対して全く足りていないので、取得した内容を確認してみましょう！"
   ]
  },
  {
   "cell_type": "code",
   "execution_count": 21,
   "id": "b807a9c1",
   "metadata": {},
   "outputs": [],
   "source": [
    "# 取得したデータをすべて格納した変数 hotel_nameをfor文を使って、１つずつｔに代入して、表示します。"
   ]
  },
  {
   "attachments": {},
   "cell_type": "markdown",
   "id": "db562a7f",
   "metadata": {},
   "source": [
    "9つの情報しか取れない原因をブラウザで確認すると、  \n",
    "    スクレイピング対策でホテル名のh1タグにclassありと無しがあるでの、対策しましょう！  "
   ]
  },
  {
   "attachments": {},
   "cell_type": "markdown",
   "id": "5277a4c3",
   "metadata": {},
   "source": [
    "#### 2.4.4.試行錯誤その２"
   ]
  },
  {
   "attachments": {},
   "cell_type": "markdown",
   "id": "19545c01",
   "metadata": {},
   "source": [
    "sectionで絞って、h1で絞って、最後にaタグで絞ってあげるとすべてのホテル名を取得できるのでこのcssセレクタで取得します。"
   ]
  },
  {
   "attachments": {},
   "cell_type": "markdown",
   "id": "9dd9fd86",
   "metadata": {},
   "source": [
    "<img src=\"img/img027.png\">"
   ]
  },
  {
   "cell_type": "code",
   "execution_count": 22,
   "id": "9f841441",
   "metadata": {},
   "outputs": [],
   "source": [
    "# section h1 aのcssセレクタで取得したデータをhotel_nameに代入\n",
    "# 取得したデータを確認"
   ]
  },
  {
   "attachments": {},
   "cell_type": "markdown",
   "id": "994048cc",
   "metadata": {},
   "source": [
    "取得したデータ数を確認してみましょう。"
   ]
  },
  {
   "cell_type": "code",
   "execution_count": 23,
   "id": "f9ceeb6e",
   "metadata": {},
   "outputs": [],
   "source": [
    "#lenを使ってhotel_nameの長さを取得"
   ]
  },
  {
   "attachments": {},
   "cell_type": "markdown",
   "id": "804e31db",
   "metadata": {},
   "source": [
    "ブラウザで確認できる32件に対して数が多いので、  \n",
    "htmlの中にホテルの情報が何件あるのか、どのcssセレクタですべての情報が取得できるか探っていきます。"
   ]
  },
  {
   "attachments": {},
   "cell_type": "markdown",
   "id": "57d23b8f",
   "metadata": {},
   "source": [
    "#### 2.4.5.試行錯誤その３"
   ]
  },
  {
   "attachments": {},
   "cell_type": "markdown",
   "id": "21c39c6b",
   "metadata": {},
   "source": [
    ">欲しい情報にすべて書かれている[最安料金]という文字に着目してスクレイピングの構造を考える"
   ]
  },
  {
   "attachments": {},
   "cell_type": "markdown",
   "id": "08c16a73",
   "metadata": {},
   "source": [
    "ブラウザで確認すると、欲しい情報である値段に[最安料金]がすべて共通で書かれていますので、これを活用します。"
   ]
  },
  {
   "attachments": {},
   "cell_type": "markdown",
   "id": "41e9276f",
   "metadata": {},
   "source": [
    "どうかソースページでいくつあるか確認します。"
   ]
  },
  {
   "attachments": {},
   "cell_type": "markdown",
   "id": "90f997cc",
   "metadata": {},
   "source": [
    "<img src=\"img/img028.png\">"
   ]
  },
  {
   "attachments": {},
   "cell_type": "markdown",
   "id": "ce7cf183",
   "metadata": {},
   "source": [
    "このサイトのhtmlには３２件ではなく、表示されていない３６件のデータが含まれている事がわかりました。"
   ]
  },
  {
   "attachments": {},
   "cell_type": "markdown",
   "id": "f33c5576",
   "metadata": {},
   "source": [
    ">36件のデータを取得するための条件を考える"
   ]
  },
  {
   "attachments": {},
   "cell_type": "markdown",
   "id": "09b0a171",
   "metadata": {},
   "source": [
    "３６件のデータを取得する前提でスクレイピングに使えるcssセレクタを考えます。"
   ]
  },
  {
   "attachments": {},
   "cell_type": "markdown",
   "id": "68559cd8",
   "metadata": {},
   "source": [
    "欲しい情報にclassありや、classなしが混在している中、  \n",
    "＜section＞の中に＜p class=\"area\"＞を含むhtmlなら、欲しい情報の４つを必ず1つずつあります。\n",
    "\n",
    "また、そのhtmlの部分から以下のcssセレクタでそれぞれの欲しい情報を取得できます。\n",
    "\n",
    "- h1 a\n",
    "- p.htlPrice span\n",
    "- p.cstmrEvl strong\n",
    "- p.htlAccess\n",
    "\n",
    "欲しい情報の４つを必ず1つずつしか持たないhtmlを抽出するメリットは、  \n",
    "4つのデータが必ず1セットになるので、どこでスクレイピングを間違えたかなどのデバックをしやすいです。\n",
    "\n",
    "例として、取得した結果だけを見ても原因がわからないからです。\n",
    "- ホテル名　35件\n",
    "- 値段　32件\n",
    "- 評価　3件\n",
    "- 住所　35件\n",
    "\n",
    "なので、必ず1セットにして取得できていない箇所を特定できるコードにする必要があります。"
   ]
  },
  {
   "attachments": {},
   "cell_type": "markdown",
   "id": "7d816a5b",
   "metadata": {},
   "source": [
    "<img src=\"img/img030.png\">"
   ]
  },
  {
   "attachments": {},
   "cell_type": "markdown",
   "id": "61dd8629",
   "metadata": {},
   "source": [
    ">sectionを条件にhtmlを分割"
   ]
  },
  {
   "attachments": {},
   "cell_type": "markdown",
   "id": "ce2ce70c",
   "metadata": {},
   "source": [
    "sectionタグを活用してこれで各ホテルごとのデータを取得してみましょう！\n",
    "\n",
    "全体のhtmlから  \n",
    "欲しい情報を含まないsectionを含むhtmlをhotel_section_from_htmlに格納して、  \n",
    "そこから欲しい情報を含むsectionを含むhtmlをhotel_sectionに代入してみましょう！\n",
    "\n",
    "欲しい情報を含むsectionはhtmlの中に＜p class=\"area\"＞のhtmlをもつので、それを分離条件にします。"
   ]
  },
  {
   "cell_type": "code",
   "execution_count": 24,
   "id": "fadd8bd9",
   "metadata": {},
   "outputs": [],
   "source": [
    "# すべてのsectionタグを取得します。\n",
    "# 取得したセクションすべての数を確認します。"
   ]
  },
  {
   "cell_type": "code",
   "execution_count": 25,
   "id": "8e34696f",
   "metadata": {},
   "outputs": [],
   "source": [
    "# sectionのp.areaに欲しいデータがちゃんと含まれているかを確認します\n",
    "# hotel_section_from_htmlの中の１つであるhotel_section_from_html[0]から取得してみます。\n"
   ]
  },
  {
   "cell_type": "code",
   "execution_count": 26,
   "id": "6cd82a44",
   "metadata": {},
   "outputs": [],
   "source": [
    "#すべてのsctionのデータを持つhotel_section_from_htmlから欲しい情報を取得出来る事条件を作ります。\n",
    "# 条件でselect_one('p.area')にデータを含まない場合、不要なsectionなので条件文で排除できるように準備します。\n",
    "\n",
    "# すべてのsctionのデータを持つhotel_section_from_htmlをhsに1つずつsectionデータを代入して実行します。\n",
    "\n",
    "# hotel_section_from_htmlから順番に取り出したsctionデータをaに代入します。\n",
    "\n",
    "#　この条件が実行された場合、不要なsectionを検知できたことになります。またこれが2つ出力されていればOKです。"
   ]
  },
  {
   "cell_type": "code",
   "execution_count": 27,
   "id": "fd17b385",
   "metadata": {},
   "outputs": [],
   "source": [
    "# 必要な情報を含むsectionを抽出する条件を作成できたので、hotel_sectionに必要な情報を含むsectionを追加していきます。\n",
    "\n",
    "# hotel_section_from_htmlからsctionを抽出して残しておく、hotel_sectionとして空の配列を用意しておきます。\n",
    "\n",
    "# aに情報がある時に実行したいので、条件はNoneではないというa != Noneになります。"
   ]
  },
  {
   "cell_type": "code",
   "execution_count": 28,
   "id": "a517b038",
   "metadata": {},
   "outputs": [],
   "source": [
    "#取得したhotel_sectionが不要である2つを除いた３６になっている事を確認します。"
   ]
  },
  {
   "attachments": {},
   "cell_type": "markdown",
   "id": "0ca9ed87",
   "metadata": {},
   "source": [
    ">分割したhtmlから欲しい情報を含むhtmlを1つずつ抽出"
   ]
  },
  {
   "attachments": {},
   "cell_type": "markdown",
   "id": "077f581a",
   "metadata": {},
   "source": [
    "余分なsectionデータを取り除いたので、sectionから名前、値段、評価、住所のそれぞれのデータを抽出してみましょう！"
   ]
  },
  {
   "cell_type": "code",
   "execution_count": 29,
   "id": "ace6ac98",
   "metadata": {},
   "outputs": [],
   "source": [
    "# for文を使ってすべてのデータを抜き出す前に、１つのsectionからそれぞれの項目のデータを取得できる土台を作ります。\n",
    "#hotel_sectionの１つ目のsectionデータhotel_section[0]をhsに代入します。\n",
    "\n",
    " # h1 aのcssセレクタにホテル名があるのでselect_one('h1 a').textで取得します。\n",
    "# p.htlPrice spanのcssセレクタにホテル名があるのでselect_one('p.htlPrice span').textで取得します。\n",
    "# p.cstmrEvl strongのcssセレクタにホテル名があるのでselect_one('p.cstmrEvl strong').textで取得します。\n",
    "# p.htlAccessのcssセレクタにホテル名があるのでselect_one('p.htlAccess').textで取得します。\n"
   ]
  },
  {
   "attachments": {},
   "cell_type": "markdown",
   "id": "df283317",
   "metadata": {},
   "source": [
    ">htmlから欲しい情報だけを抽出"
   ]
  },
  {
   "attachments": {},
   "cell_type": "markdown",
   "id": "87d27eb1",
   "metadata": {},
   "source": [
    "金額と住所だけデータの整理が必要なので、整理してみましょう！"
   ]
  },
  {
   "cell_type": "code",
   "execution_count": 30,
   "id": "e499d112",
   "metadata": {},
   "outputs": [],
   "source": [
    "# もう一度取得できた住所のデータを確認してみましょう\n",
    "\n",
    "\n",
    "# 改行である￥nと空欄と[地図を見る]と　が不要なのが確認できます\n",
    "# これらをreplace(入れ替える文字列を指定,代入した文字列を指定)で削除していきます。\n",
    "# 代入した文字列を指定の部分\"\"にすることで何も挿入されませんので、削除のような処理になります。"
   ]
  },
  {
   "cell_type": "code",
   "execution_count": 31,
   "id": "ee95cab3",
   "metadata": {},
   "outputs": [],
   "source": [
    "# ￥nを置き換える場合は.replace(\"\\n\",\"\")になります。\n",
    "# どのような挙動になるか確認してみましょう\n"
   ]
  },
  {
   "cell_type": "code",
   "execution_count": 32,
   "id": "5e2d3b03",
   "metadata": {},
   "outputs": [],
   "source": [
    "# すべて置換して住所だけ抽出します。\n",
    "# replace()で改行である￥nと空欄と[地図を見る]と　を1つずつ削除していきます。"
   ]
  },
  {
   "attachments": {},
   "cell_type": "markdown",
   "id": "841fc5c1",
   "metadata": {},
   "source": [
    "同様に金額も数字にしてみましょう！！\n",
    "数字だけにしておけば、後々あらゆる変換が可能になります。\n",
    "\n",
    "一例として、金額のカンマ区切り表現にすると"
   ]
  },
  {
   "cell_type": "code",
   "execution_count": 33,
   "id": "ef4bd7cc",
   "metadata": {},
   "outputs": [],
   "source": [
    "# 4273を{:,}を指定することで、フォーマットを変更できます。"
   ]
  },
  {
   "cell_type": "code",
   "execution_count": 34,
   "id": "62e3b3d1",
   "metadata": {},
   "outputs": [],
   "source": [
    "# 住所と同様、replace()で円～と,を削除処理します。\n"
   ]
  },
  {
   "attachments": {},
   "cell_type": "markdown",
   "id": "c759664e",
   "metadata": {},
   "source": [
    "sectionからそれぞれの項目のデータを抽出し、それぞれ整理するコードをまとめてみましょう。"
   ]
  },
  {
   "cell_type": "code",
   "execution_count": 35,
   "id": "7b88bc23",
   "metadata": {},
   "outputs": [],
   "source": [
    "#hotel_sectionの１つめのsectionであるhotel_section[0]をhsに代入\n",
    "# ホテル名を取得\n",
    "# 値段を取得\n",
    "# ホテルの評価を取得\n",
    "# ホテルの住所を取得"
   ]
  },
  {
   "attachments": {},
   "cell_type": "markdown",
   "id": "0331ac7f",
   "metadata": {},
   "source": [
    "１つのsectionからそれぞれのデータを抽出できたので、すべてsectionからホテルデータを取得しましょう。"
   ]
  },
  {
   "attachments": {},
   "cell_type": "markdown",
   "id": "d7cbceb9",
   "metadata": {},
   "source": [
    "for文を使ってすべてのsectionを処理する前に、それぞれのsectionからそれぞれのホテルデータを格納するコードを作ります。\n",
    "\n",
    "すべてのsection要素をもつhtmlを格納する変数hotel_sectionからsectionを1つ選んで変数hsに代入します。  \n",
    "そのhsから欲しい情報を抽出し、一時的に代入するための変数を４つ用意します。\n",
    "\n",
    "- hs1 （ホテル名）\n",
    "- hs2 （ホテルの料金）\n",
    "- hs3 （ホテル評価）\n",
    "- hs4 （ホテル住所）\n",
    "\n",
    "さらにそれらのすべてのホテルデータを格納する配列を４つ用意します。\n",
    "\n",
    "- hotelName （ホテル名）\n",
    "- hotelMinCharge （ホテルの料金）\n",
    "- reviewAverage （ホテル評価）\n",
    "- hotel_locate （ホテル住所）"
   ]
  },
  {
   "cell_type": "code",
   "execution_count": 36,
   "id": "a81cb438",
   "metadata": {},
   "outputs": [],
   "source": [
    "# ホテル情報格納のための空配列を用意します。\n",
    "\n",
    "# ホテル名を格納する空配列を用意します。\n",
    "# ホテルの料金を格納する空配列を用意します。\n",
    " # ホテル評価を格納する空配列を用意します。\n",
    "# ホテル住所を格納する空配列を用意します。\n",
    "\n",
    "# hotel_sectionから任意のsectionを1つ選んでhsに代入して実行します。\n",
    "\n",
    "\n",
    "\n",
    "# hsに格納されたhtmlであるsectionから欲しい情報を抽出\n",
    "#ホテル名をhs1に代入\n",
    "\n",
    "# 値段が含まれていないホテル情報があるので、if文で条件分岐\n",
    "\n",
    " # 値段をhs2に代入\n",
    "\n",
    "# 値段が記入されていない場合があるので、わかりやすく-1にしておきましょう。\n",
    "\n",
    "# 評価をhs3に代入\n",
    "\n",
    "# 住所をhs4に代入\n",
    "\n",
    "# それぞれ抽出した情報hs1~hs4までのデータを配列に追加\n",
    "\n",
    "#抽出したホテル名をhotelNameに追加\n",
    "\n",
    "#抽出したホテルの料金をhotelMinChargeに追加\n",
    "#抽出したホテルの評価をreviewAverageに追加\n",
    "#抽出したホテル住所をhotel_locateに追加"
   ]
  },
  {
   "attachments": {},
   "cell_type": "markdown",
   "id": "59cc34dc",
   "metadata": {},
   "source": [
    "追加した配列の中身を確認してみましょう！"
   ]
  },
  {
   "cell_type": "code",
   "execution_count": 37,
   "id": "e2406d4a",
   "metadata": {},
   "outputs": [],
   "source": [
    "#hotelName, hotelMinCharge, reviewAverage, hotel_locateの中身を確認"
   ]
  },
  {
   "attachments": {},
   "cell_type": "markdown",
   "id": "c4ca1795",
   "metadata": {},
   "source": [
    "hs = hotel_section[5]のように手動で選択していましたが、  \n",
    "自動ですべてのsectionから情報を取得できるようにfor文を活用してみましょう。"
   ]
  },
  {
   "cell_type": "code",
   "execution_count": 38,
   "id": "e8863ee9",
   "metadata": {},
   "outputs": [],
   "source": [
    "# ホテル名を格納する空配列を用意します。\n",
    "# ホテルの料金を格納する空配列を用意します。\n",
    "# ホテル評価を格納する空配列を用意します。\n",
    "# ホテル住所を格納する空配列を用意します。\n",
    "\n",
    "# hotel_sectionからsectionを1つずつ取り出してhsに代入して実行します。\n",
    "\n",
    "#ホテル名をhs1に代入\n",
    "\n",
    "# 値段をhs2に代入\n",
    "\n",
    "# 値段が記入されていない場合があるので、わかりやすく-1にしておきましょう。\n",
    "\n",
    "# 評価をhs3に代入\n",
    "\n",
    "# 住所をhs4に代入\n",
    "\n",
    "#抽出したホテル名をhotelNameに追加\n",
    "\n",
    "#抽出したホテルの料金をhotelMinChargeに追加\n",
    "\n",
    "#抽出したホテルの評価をreviewAverageに追加\n",
    "\n",
    "#抽出したホテル住所をhotel_locateに追加\n"
   ]
  },
  {
   "attachments": {},
   "cell_type": "markdown",
   "id": "b39d6202",
   "metadata": {},
   "source": [
    "#### 2.4.6.pandasを活用してデータにまとめる"
   ]
  },
  {
   "attachments": {},
   "cell_type": "markdown",
   "id": "086ea981",
   "metadata": {},
   "source": [
    ">抽出した配列をDataFrameへ"
   ]
  },
  {
   "attachments": {},
   "cell_type": "markdown",
   "id": "9121f7f2",
   "metadata": {},
   "source": [
    "pandasのデータ化して、確認してみましょう！！"
   ]
  },
  {
   "cell_type": "code",
   "execution_count": 29,
   "id": "f8655c95",
   "metadata": {},
   "outputs": [],
   "source": [
    "# pandasのデータフレームに使うデータを定義します。\n",
    "#data_listとして辞書を設定 {\n",
    "#     \"hotelName\" : hotelName,\n",
    "#     \"hotelMinCharge\" : hotelMinCharge,\n",
    "#     \"reviewAverage\" : reviewAverage,\n",
    "#     \"hotel_locate\" : hotel_locate,\n",
    "# }"
   ]
  },
  {
   "cell_type": "code",
   "execution_count": 39,
   "id": "9def86b2",
   "metadata": {},
   "outputs": [],
   "source": [
    "# 定義したデータをpandasに読み込ませます\n",
    "# pd.DataFrame(ここにデータ)でデータフレームに変換できます。"
   ]
  },
  {
   "attachments": {},
   "cell_type": "markdown",
   "id": "6b950026",
   "metadata": {},
   "source": [
    ">重複をチェック"
   ]
  },
  {
   "attachments": {},
   "cell_type": "markdown",
   "id": "c07e0a14",
   "metadata": {},
   "source": [
    "スクレイピング対策で重複したデータが存在するので、\n",
    "重複を確認して、削除してみましょう！"
   ]
  },
  {
   "cell_type": "code",
   "execution_count": 40,
   "id": "17156fa5",
   "metadata": {},
   "outputs": [],
   "source": [
    "# duplicated()で重複がしているかをTrueかFalseで返してくれます。"
   ]
  },
  {
   "attachments": {},
   "cell_type": "markdown",
   "id": "c9a91488",
   "metadata": {},
   "source": [
    ">データ整理"
   ]
  },
  {
   "cell_type": "code",
   "execution_count": 41,
   "id": "37d3338c",
   "metadata": {},
   "outputs": [],
   "source": [
    "# drop_duplicates()で重複したデータを削除してくれます。\n",
    "# drop_duplicates(inplace=True)とすることで、処理したデータを出力だけでなく、出力したデータを元のdfに代入して変更してくれます。\n"
   ]
  },
  {
   "cell_type": "code",
   "execution_count": 42,
   "id": "7e7b29b9",
   "metadata": {},
   "outputs": [],
   "source": [
    "# 列の認識番号であるindexが列の順番と一致していないので、reset_indexで番号を振り直します。\n",
    "# reset_index(drop=True,inplace=True)とすることで、元のindexを削除して新たに生成したindexを作成し、元のデータを更新してくれます。\n"
   ]
  },
  {
   "attachments": {},
   "cell_type": "markdown",
   "id": "36a474c7",
   "metadata": {},
   "source": [
    "### 2.5課題"
   ]
  },
  {
   "attachments": {},
   "cell_type": "markdown",
   "id": "ea15a6a1",
   "metadata": {},
   "source": [
    "2ページ目の物件を取得してみましょう！"
   ]
  },
  {
   "attachments": {},
   "cell_type": "markdown",
   "id": "3eb91b5e",
   "metadata": {},
   "source": [
    "### +αとして、取得したホテル名と住所を地図上に表示してみましょう！"
   ]
  },
  {
   "attachments": {},
   "cell_type": "markdown",
   "id": "d802d5bd",
   "metadata": {},
   "source": [
    "ここまでは楽天トラベルのデータをAPIで取得し、構造化データとして取り扱うことをやってきました。\n",
    "\n",
    "次にその他のAPIや外部データを組み合わせて、より価値の高いデータにしていきながら、アプリケーションを作っていく考え方を学びます。\n",
    "\n",
    "アイデアから実装までの思考プロセス\n",
    "\n",
    "- 楽天トラベルAPIでデータを取得したがもっと自分独自のデータにしたい\n",
    "- 外部データと組み合わせることはできないだろうか？\n",
    "- 住所がわかるなら、緯度経度をとることでマップに表示できないだろうか？\n",
    "- 実際にやってみよう！"
   ]
  },
  {
   "attachments": {},
   "cell_type": "markdown",
   "id": "0e3d9694",
   "metadata": {},
   "source": [
    "全体像\n",
    "- データから住所を取得\n",
    "- 国土交通省の国土地理院APIで緯度経度を取得\n",
    "- 取得した緯度経度とライブラリfoliumを使ってマップに出力"
   ]
  },
  {
   "attachments": {},
   "cell_type": "markdown",
   "id": "96823425",
   "metadata": {},
   "source": [
    "地図上に表示してみましょう！  \n",
    "地図上にピンを立てられるライブラリ、foliumを活用してみましょう\n"
   ]
  },
  {
   "attachments": {},
   "cell_type": "markdown",
   "id": "1375c825",
   "metadata": {},
   "source": [
    "foliumのインストールとして、ターミナルでpip install foliumをします。"
   ]
  },
  {
   "cell_type": "code",
   "execution_count": 43,
   "id": "3c101549",
   "metadata": {},
   "outputs": [],
   "source": [
    "# foliumでどんな機能かを具体例として東京スカイツリーを地図上に補油時してみます\n",
    "# foliumの機能を金ポートします\n",
    "\n",
    "# 東京スカイツリーがある緯度経度をlatitudeとlongtudeに代入します。\n",
    "# ピンの名前として、変数nameに東京スカイツリーを代入します。\n",
    "\n",
    "# latitude = 35.710063\n",
    "# longtude = 139.8107\n",
    "# name = \"東京スカイツリー\"\n",
    "\n",
    "# folium.Map(location=[ここ緯度, ここ経度], zoom_start=ここ半径の数字) でマップを生成して、変数mapに代入します。\n",
    "\n",
    "# 変数mapに格納された地図情報にマーカーを加えます"
   ]
  },
  {
   "attachments": {},
   "cell_type": "markdown",
   "id": "74e9c935",
   "metadata": {},
   "source": [
    "楽天トラベルから得られた住所を地図上に表示する場合、緯度経度が必要なので、住所を緯度経度に変換してくれるAPIを活用してみましょう！！"
   ]
  },
  {
   "cell_type": "code",
   "execution_count": 44,
   "id": "5e0bd919",
   "metadata": {},
   "outputs": [],
   "source": [
    "# 一例として千葉県南房総市富浦町青木123-1の緯度経度を取得してみましょう。\n",
    "# APIにアクセスするためのrequestsの機能をimportします\n",
    "\n",
    "#アクセス先のURLとパラメータの一部をurlに代入\n",
    "# パラメータの一部をqに代入\n",
    "\n",
    "# url + q でパラメーター付のURLを完成させてリクエスト\n",
    "# 緯度経度はres.json()[0][\"geometry\"][\"coordinates\"]に返ってくる\n"
   ]
  },
  {
   "attachments": {},
   "cell_type": "markdown",
   "id": "a183cfe8",
   "metadata": {},
   "source": [
    "マップに表示する方法と住所から緯度経度を取得する方法を確認したので、\n",
    "DataFrameに格納してる住所データの状況を１つ取って確認してみましょう！"
   ]
  },
  {
   "cell_type": "code",
   "execution_count": 45,
   "id": "5cb835ff",
   "metadata": {},
   "outputs": [],
   "source": [
    "# 住所のデータはhotel_locateのカラムにあるので、df[\"hotel_locate\"]で住所のデータ群を呼び出せます。\n",
    "# １つのデータで良いので、１行目のdf[\"hotel_locate\"][0]を選びましょう。\n"
   ]
  },
  {
   "cell_type": "code",
   "execution_count": 46,
   "id": "62a7e763",
   "metadata": {},
   "outputs": [],
   "source": [
    "# df[\"hotel_locate\"][0]で確認した文字列は郵便番号がいらないので\n",
    "# 〒900-0014沖縄県那覇市松尾1-3-6を参考に、住所だけを抽出します。\n",
    "# pythonでは[9:]とすることで、10番目から最後まで抽出することができます。\n",
    "\n",
    "# testに〒900-0014沖縄県那覇市松尾1-3-6の文字列を代入します。\n",
    "# 〒900-0014沖縄県那覇市松尾1-3-6を代入されたtestの10番目から最後まで必要なので、test[9:]とします。"
   ]
  },
  {
   "cell_type": "code",
   "execution_count": 47,
   "id": "ed8ece1a",
   "metadata": {},
   "outputs": [],
   "source": [
    "# データフレームのdf[\"hotel_locate\"][0]でも10番目から最後まで抽出するのは[9:]でできます。\n"
   ]
  },
  {
   "attachments": {},
   "cell_type": "markdown",
   "id": "6b5de6b4",
   "metadata": {},
   "source": [
    "DataFrameに格納してる住所データと住所から緯度経度を取得する方法とマップに表示する方法が確認出来たので、\n",
    "楽天トラベルで取得したデータすべてを地図上に表示してみましょう。"
   ]
  },
  {
   "cell_type": "code",
   "execution_count": 48,
   "id": "5921d93c",
   "metadata": {},
   "outputs": [],
   "source": [
    "# マッピングする回数を決めるために、データ数がいくつあるかを確かめる\n"
   ]
  },
  {
   "cell_type": "code",
   "execution_count": 49,
   "id": "3109bb75",
   "metadata": {},
   "outputs": [],
   "source": [
    "#３５回繰り返すfor文の為に0-34が格納された配列を作る\n",
    "# range(0,5)なら[0, 1, 2, 3, 4]と同じ配列を生成してくれます。\n",
    "# range()を確認する場合は配列に変換してくれるlist()を使ってlist(range(0,5))としましょう！"
   ]
  },
  {
   "attachments": {},
   "cell_type": "markdown",
   "id": "efaed671",
   "metadata": {},
   "source": [
    "すべての住所データをマップに表示するために、緯度経度に変換してみましょう！"
   ]
  },
  {
   "cell_type": "code",
   "execution_count": 50,
   "id": "334dc636",
   "metadata": {},
   "outputs": [],
   "source": [
    "# dfの住所から変換した経度を追加するための空配列\n",
    "# dfの住所から変換した経度を追加するための空配列\n",
    "\n",
    "# 地図上に表示するマーカーを名前の一覧配列をdfから取得します。\n",
    "# df[\"hotelName\"].values.tolist() でdf[\"hotelName\"]値を配列としてname_listに代入します。\n",
    "\n",
    "\n",
    "\n",
    "# リクエスト機能をインポート\n",
    "\n",
    "# パラメータ付URLをアクセス先としてurlに代入\n",
    "\n",
    "# dfの住所0-34番目を取り出すためのindexをiに代入\n",
    "\n",
    " # i番目ホテル住所を指定し、[9:]で住所のみ抽出し、qに代入\n",
    "\n",
    "# パラメータに住所を足し算して、パラメータ付URLを完成させて、リクエストし、結果をresに代入\n",
    "\n",
    "# APIから取得した緯度をlatitude_listに追加\n",
    "\n",
    "# APIから取得した経度をlongtude_listに追加\n",
    "    "
   ]
  },
  {
   "attachments": {},
   "cell_type": "markdown",
   "id": "17d6235a",
   "metadata": {},
   "source": [
    "得られた緯度経度とホテル名のデータを使って、地図上に表示します。"
   ]
  },
  {
   "cell_type": "code",
   "execution_count": 51,
   "id": "6e9fa5a1",
   "metadata": {},
   "outputs": [],
   "source": [
    "# 地図機能をインポートします\n",
    "# APIの住所から緯度経度変換で得られた配列の１つ目を基準にマップを生成\n",
    "\n",
    "\n",
    "# 地図しか生成しておらず、マーカーが１つもないので、\n",
    "# APIの住所から緯度経度変換で得られた配列の１つ目を基準に生成したマップにマーカを追加する\n",
    "# マーカー名にホテル名のname_listを指定する"
   ]
  },
  {
   "cell_type": "code",
   "execution_count": null,
   "id": "30b5832e",
   "metadata": {},
   "outputs": [],
   "source": [
    "#マーカを追加したマップを表示"
   ]
  },
  {
   "attachments": {},
   "cell_type": "markdown",
   "id": "a064f0aa",
   "metadata": {},
   "source": [
    "### 2.6最後に取得した価格と評価の散布図を表示してみましょう！"
   ]
  },
  {
   "attachments": {},
   "cell_type": "markdown",
   "id": "edc3c38d",
   "metadata": {},
   "source": [
    "構造化されたデータを整備したときにもっとも大事なことはデータを「見える化」「可視化」することです。そのTipsを学びます。\n",
    "\n",
    "人間は数字の羅列をみるだけでは、直感的に繋がりを把握することはできません。\n",
    "\n",
    "しかし、グラフ化などのデータの「可視化」を行うことで、\n",
    "\n",
    "- データのトレンド\n",
    "- データの特徴\n",
    "- 外れ値や特異点\n",
    "\n",
    "などを知ることができます"
   ]
  },
  {
   "attachments": {},
   "cell_type": "markdown",
   "id": "6bec63c7",
   "metadata": {},
   "source": [
    "全体像\n",
    "-  matplotlibのpyplotを活用して散布図を作る\n",
    "- xの値をホテル料金、yの値を評価の散布図を作成"
   ]
  },
  {
   "attachments": {},
   "cell_type": "markdown",
   "id": "f79c018e",
   "metadata": {},
   "source": [
    "ライブラリのnumpyとmatplotlibをインストールしましょう！  "
   ]
  },
  {
   "attachments": {},
   "cell_type": "markdown",
   "id": "1d35c6fc",
   "metadata": {},
   "source": [
    "サンプルとして、xの値、yの値それぞれ100個の乱数配列を作ります。"
   ]
  },
  {
   "cell_type": "code",
   "execution_count": 52,
   "id": "6a361113",
   "metadata": {},
   "outputs": [],
   "source": [
    "# 数列を得意とするライブラリnumpyをインポートする\n",
    "# x軸の値になる0-1までの乱数100個を配列として用意し、xに代入\n",
    "# y軸の値になる0-1までの乱数100個を配列として用意し、yに代入"
   ]
  },
  {
   "attachments": {},
   "cell_type": "markdown",
   "id": "4e9bce36",
   "metadata": {},
   "source": [
    "可視化ライブラリmatplotlibで散布図にしてみましょう！"
   ]
  },
  {
   "cell_type": "code",
   "execution_count": 53,
   "id": "5f7435d3",
   "metadata": {},
   "outputs": [],
   "source": [
    "# グラフにプロットする機能をインポートし、pltの省略形として呼べるようにする\n",
    " \n",
    "# 乱数で作ったxとyの配列をplt.scatter(x軸の値, y軸の値)として代入"
   ]
  },
  {
   "attachments": {},
   "cell_type": "markdown",
   "id": "14759c62",
   "metadata": {},
   "source": [
    "取得したデータの型がプロットできる数字の状態であるかを確認しましょう"
   ]
  },
  {
   "cell_type": "code",
   "execution_count": 54,
   "id": "6ddc16d7",
   "metadata": {},
   "outputs": [],
   "source": [
    "# type(ここに判別したい変数)とするとその変数のデータ型がわかります。"
   ]
  },
  {
   "cell_type": "code",
   "execution_count": 55,
   "id": "a82957d1",
   "metadata": {},
   "outputs": [],
   "source": [
    "# 文字列であるstrは数字として扱われなく、文字としてある買われるので、変数 + 変数とした時に数字の足し算のような処理になりません。\n"
   ]
  },
  {
   "cell_type": "code",
   "execution_count": 56,
   "id": "0a26600e",
   "metadata": {},
   "outputs": [],
   "source": [
    "# 文字列を数字のデータ型に変換する時はint(変換したい変数)とすると数字のデータ型に変換できます。\n"
   ]
  },
  {
   "cell_type": "code",
   "execution_count": 57,
   "id": "3a455c48",
   "metadata": {},
   "outputs": [],
   "source": [
    "# 足し算して数字として扱われているかを確認しましょう。\n"
   ]
  },
  {
   "attachments": {},
   "cell_type": "markdown",
   "id": "1a1ea33c",
   "metadata": {},
   "source": [
    "グラフにするためにxの値をホテル料金、yの値を評価して、X軸y軸のデータを作りましょう。"
   ]
  },
  {
   "cell_type": "code",
   "execution_count": 58,
   "id": "d6e678c5",
   "metadata": {},
   "outputs": [],
   "source": [
    "# 数字に変換したホテル料金を追加するための空配列\n",
    "# 数字に変換したホテル評価を追加するための空配列\n",
    "\n",
    "# ホテル料金を数字の型に変換\n",
    "\n",
    "# ホテル評価を数字の型に変換\n",
    "\n",
    "# -1として入力した欠損したホテル料金データを条件で追加処理しない事で、排除します。\n",
    "\n",
    " # xに数字に変換したホテル料金を追加\n",
    "\n",
    "# yに数字に変換したホテル評価を追加\n"
   ]
  },
  {
   "cell_type": "code",
   "execution_count": 59,
   "id": "f2ffec96",
   "metadata": {},
   "outputs": [],
   "source": [
    "# 用意したxとyの配列をplt.scatter(x軸の値, y軸の値)として代入"
   ]
  },
  {
   "attachments": {},
   "cell_type": "markdown",
   "id": "5ed3be91",
   "metadata": {},
   "source": [
    "可視化することで値段とホテルの評価の相関関係がだいたい分かったと思います！"
   ]
  },
  {
   "attachments": {},
   "cell_type": "markdown",
   "id": "6f202bc9",
   "metadata": {},
   "source": [
    "## 3最後に"
   ]
  },
  {
   "attachments": {},
   "cell_type": "markdown",
   "id": "ec65f69c",
   "metadata": {},
   "source": [
    "お疲れさまでした。  \n",
    "スクレイピングは対策されている上に、仕様変更されるとすぐに動かなくなります。\n",
    "\n",
    "その点APIは労力も対策されるリスクもないので、APIとスクレイピングは大きく違うとわかって頂けたかと思います。"
   ]
  },
  {
   "attachments": {},
   "cell_type": "markdown",
   "id": "93a23dc8",
   "metadata": {},
   "source": [
    "次は、スクレイピングを自動で定期的に取得できるpythonの実行ファイルを学びましょう。"
   ]
  },
  {
   "cell_type": "markdown",
   "id": "d166be73",
   "metadata": {},
   "source": []
  }
 ],
 "metadata": {
  "kernelspec": {
   "display_name": "tech0",
   "language": "python",
   "name": "python3"
  },
  "language_info": {
   "codemirror_mode": {
    "name": "ipython",
    "version": 3
   },
   "file_extension": ".py",
   "mimetype": "text/x-python",
   "name": "python",
   "nbconvert_exporter": "python",
   "pygments_lexer": "ipython3",
   "version": "3.8.16"
  },
  "vscode": {
   "interpreter": {
    "hash": "14498c2693dbacc748b33ada8a31e4cf5c4288efbd86c8d200c58bb6fc8893c8"
   }
  }
 },
 "nbformat": 4,
 "nbformat_minor": 5
}
