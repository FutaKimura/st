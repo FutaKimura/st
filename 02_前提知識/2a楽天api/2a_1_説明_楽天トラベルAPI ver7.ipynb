{
 "cells": [
  {
   "attachments": {},
   "cell_type": "markdown",
   "id": "77f4821e",
   "metadata": {},
   "source": [
    "# Webアプリに入る前に知っておくべきデータに関する前提知識"
   ]
  },
  {
   "attachments": {},
   "cell_type": "markdown",
   "id": "bf65e4da",
   "metadata": {},
   "source": [
    "### 目標：APIを理解して使いこなし、そのデータを扱えるようになる事\n",
    "\n",
    "目次\n",
    "https://docs.google.com/document/d/1crmJ0DjAl77ab9aK8K9DshfQu25fS3EWXCC0m4AajZo/edit\n"
   ]
  },
  {
   "attachments": {},
   "cell_type": "markdown",
   "id": "09d445ab",
   "metadata": {},
   "source": [
    "## 1APIを理解するための前知識"
   ]
  },
  {
   "attachments": {},
   "cell_type": "markdown",
   "id": "da2039e8",
   "metadata": {},
   "source": [
    "### 　1.1.目的と流れ"
   ]
  },
  {
   "attachments": {},
   "cell_type": "markdown",
   "id": "2566a748",
   "metadata": {},
   "source": [
    "楽天さんが提供してくれているAPIを使い、APIで出来ることを実践しながら学びます。\n",
    "\n",
    "- APIがどのようなものか\n",
    "- APIを使うときのお作法\n",
    "- APIを活用することでどういったデータを取得できるか\n",
    "- 取得したデータをどう扱えば良いのか\n",
    "\n",
    "実際にAPIに触れることで、世の中のAPIが自分で利用できるようになることを目指します。"
   ]
  },
  {
   "attachments": {},
   "cell_type": "markdown",
   "id": "9300fa88",
   "metadata": {},
   "source": [
    "### 1.2.APIとは"
   ]
  },
  {
   "attachments": {},
   "cell_type": "markdown",
   "id": "f8a9ab78",
   "metadata": {},
   "source": [
    "APIは、「Application Programming Interface」の略であり、データベースやウェブサービス、アプリケーションソフトウェアなどにアクセスするための機能を提供し、プログラマが複雑な処理を行うことなく、簡単に外部のツールを利用することができるインターフェースのことです。\n",
    "\n",
    "インターフェースとは、接点のことを指し、異なる２つの物事をつなぐというものです。"
   ]
  },
  {
   "attachments": {},
   "cell_type": "markdown",
   "id": "2b488bc2",
   "metadata": {},
   "source": [
    "<img src=\"img/img021.png\">"
   ]
  },
  {
   "attachments": {},
   "cell_type": "markdown",
   "id": "8cfa6362",
   "metadata": {},
   "source": [
    "参照：https://medium-company.com/wp-content/uploads/2020/07/interface1.png"
   ]
  },
  {
   "attachments": {},
   "cell_type": "markdown",
   "id": "1d49fdea",
   "metadata": {},
   "source": [
    "たとえばキーボードやマウス、ディスプレイは人間とコンピューターの境界上で使われる「ユーザーインターフェース」の1つとして知られます。また、USBやHDMIといった、機械と機械をつなぐコネクターは「ハードウェアインターフェース」と呼ばれます。\n",
    "\n",
    "そしてAPIは、主にソフトウェアやプログラム同士をつないでいるインターフェースなのです。\n",
    "\n",
    "ユーザーがサービスを使う際にAPIの存在を意識することはほぼありません。しかしその裏では、実はAPIは幅広く使われています。\n",
    "\n",
    "例えば、あなたがスマートフォンのアプリを使用して天気を見ている時、そのアプリはAPIを介して気象庁の持つデータにアクセスをして、天気のデータを取得しています。"
   ]
  },
  {
   "attachments": {},
   "cell_type": "markdown",
   "id": "c8202172",
   "metadata": {},
   "source": [
    "#### 楽天が用意しているAPI"
   ]
  },
  {
   "attachments": {},
   "cell_type": "markdown",
   "id": "29a7eb31",
   "metadata": {},
   "source": [
    "ご存知、楽天さんは多くのビジネスをもっております。\n",
    "\n",
    "- 楽天市場\n",
    "- 楽天トラベル\n",
    "- 楽天Kobo\n",
    "\n",
    "など\n",
    "\n",
    "今回は楽天トラベルのAPIを利用することを考えます。楽天トラベルは、各地のホテルの詳細な情報をデータベースに抱えています。楽天が決めた規則(ルール)にのっとり、http通信によるリクエストをすることで、楽天トラベルのデータを取得することが可能です。その際は、jsonというデータ形式で欲しい情報を瞬時に取得することができます。"
   ]
  },
  {
   "attachments": {},
   "cell_type": "markdown",
   "id": "3627d10e",
   "metadata": {},
   "source": [
    "<img src=\"img/img022.jpg\">"
   ]
  },
  {
   "attachments": {},
   "cell_type": "markdown",
   "id": "d45794d1",
   "metadata": {},
   "source": [
    "参照：https://www.motokis-brain.com/article/72"
   ]
  },
  {
   "attachments": {},
   "cell_type": "markdown",
   "id": "a0fc878f",
   "metadata": {},
   "source": [
    "### 1.3.HTTP通信とは"
   ]
  },
  {
   "attachments": {},
   "cell_type": "markdown",
   "id": "0e175415",
   "metadata": {},
   "source": [
    "HTTP(Hypertext Transfer Protocol)通信とは、インターネット上でWebページや画像などのデータをやり取りするためのルールや手順のことです。※ハイパーテキスト知らない人は調べてね\n",
    "\n",
    "どのような形式で送信するか、Webサーバーが受け取ったリクエストに対してどのような形式でレスポンスを返すか、などのWebサーバーにリクエストを送信する際のルールが決まっています。\n",
    "\n",
    "言い換えると、サーバーとクライアント（通常はWebブラウザや、我々が書くPythonのプログラム）間で、どのように情報を送受信するかを定めたルールです\n",
    "\n",
    "例えば、Webページを見るためには、Webサーバーに対して「このURLのページを取ってきてください」というリクエストを送信し、WebサーバーからWebページのデータを受け取る必要があります。\n",
    "\n",
    "このように、HTTP通信はWebページや画像などのデータをやり取りする際に必要な手順やルールを決めることで、WebブラウザとWebサーバーがスムーズにやり取りを行えるようにしています。"
   ]
  },
  {
   "attachments": {},
   "cell_type": "markdown",
   "id": "fa7c250e",
   "metadata": {},
   "source": [
    "#### リクエスト\n",
    "クライアントがサーバーに対してデータを要求します。このときに送られるデータが「リクエスト」です。リクエストには「HTTPメソッド（GET, POSTなど）」「エンドポイント」「ヘッダー」「ボディ」などの情報が含まれます\n",
    "#### レスポンス\n",
    "サーバーがリクエストを受け取り、必要な処理を行った後、クライアントに結果を返します。この結果が「レスポンス」です。レスポンスには「ステータスコード」「ヘッダー」「ボディ」などの情報が含まれます。"
   ]
  },
  {
   "attachments": {},
   "cell_type": "markdown",
   "id": "47e910b4",
   "metadata": {},
   "source": [
    "<img style=\"background-color:#fff;\" src=\"img/img023.png\">"
   ]
  },
  {
   "attachments": {},
   "cell_type": "markdown",
   "id": "60e86dfe",
   "metadata": {},
   "source": [
    "### 1.4.HTTP通信の歴史（雑談）\n",
    "HTTPは、ティム・バーナーズ＝リーによって開発されました。その目的は、インターネット上の情報を簡単に検索・閲覧するためのシステム、つまり「World Wide Web」を作り出すことでした。\n",
    "\n",
    "HTTPのバージョン1.0は1996年に標準化され、その後1997年にはHTTP/1.1が公開され、パフォーマンスの改善や安全性の向上などが行われました。そして2015年には、データの送受信をより効率的に行うための新バージョンHTTP/2が登場しました。\n",
    "\n",
    "HTTPの歴史を知ることは、その背後にある設計哲学や価値観を理解する手助けになります。また、新旧のバージョン間の違いを知ることで、技術が進化してきた背景を理解し、最新の仕様に追随するための知識を身につけることができます。"
   ]
  },
  {
   "attachments": {},
   "cell_type": "markdown",
   "id": "cac55202",
   "metadata": {},
   "source": [
    "参照：https://www.itmanage.co.jp/column/about-http-https/"
   ]
  },
  {
   "attachments": {},
   "cell_type": "markdown",
   "id": "0efbc1e4",
   "metadata": {},
   "source": [
    "### 1.5.URLとエンドポイントの概念\n",
    "**URL(Uniform Resource Locator)**は、インターネット上のリソースがどこに存在するかを示すアドレスのことを指します。エンドポイントは、APIが提供する機能を利用するためのURLの一部（パス）を指します。\n",
    "\n",
    "例えば、https://api.example.com/users/123というURLがあったとき、https://api.example.com/はベースURL、users/123部分がエンドポイントです。エンドポイントは、APIが提供する具体的なサービスや機能（この例では、IDが123のユーザー情報を取得する機能）を表しています。\n",
    "\n",
    "このエンドポイントの概念は、APIを利用する際に特に重要となります。どのエンドポイントに対してリクエストを送るかで、何のデータを取得するか、あるいはどのような操作を行うかが決まるためです。\n"
   ]
  },
  {
   "attachments": {},
   "cell_type": "markdown",
   "id": "2f1f97ff",
   "metadata": {},
   "source": [
    "### 6.HTTPメソッドとは\n",
    "HTTPメソッドは、クライアントがサーバーに対してどのような操作を要求するかを示すための手段です。主に以下の5つのメソッドがあります。\n",
    "\n",
    "- ★GET: リソースの取得\n",
    "- ★POST: リソッスの作成\n",
    "- PUT: リソースの更新（全体）\n",
    "- PATCH: リソースの更新（一部）\n",
    "- DELETE: リソースの削除\n",
    "\n",
    "これらのメソッドはHTTPプロトコルに組み込まれており、サーバとクライアントが一貫した方法で通信を行うための基盤を提供します。それぞれのメソッドがどのように動作するかは、その名前から直感的に理解することができます。これらのメソッドを理解することで、クライアントからサーバへのリクエストが何を意図しているのかを理解しやすくなります。"
   ]
  },
  {
   "attachments": {},
   "cell_type": "markdown",
   "id": "5d9872c9",
   "metadata": {},
   "source": [
    "#### RESTとは"
   ]
  },
  {
   "attachments": {},
   "cell_type": "markdown",
   "id": "9133f493",
   "metadata": {},
   "source": [
    "HTTPのRESTは、Representational State Transferの略で、Webアプリケーションの開発でよく使われるアーキテクチャスタイルの一つです。\n",
    "\n",
    "RESTは、クライアントとサーバー間での通信で使用され、Webリソースに対してHTTPメソッド（GET、POST、PUT、DELETEなど）を使用して操作を行うことで、リソースの状態を表現します。\n",
    "\n",
    "今回の学習では、WebブラウザがWebサーバーにリクエストを送信する形式であるGETを使います。\n",
    "また、なにをリクエストするかをパラメーターを使ってデータを取得します。"
   ]
  },
  {
   "attachments": {},
   "cell_type": "markdown",
   "id": "faec4f13",
   "metadata": {},
   "source": [
    "<img src=\"img/img024.png\">"
   ]
  },
  {
   "attachments": {},
   "cell_type": "markdown",
   "id": "e1bfd74c",
   "metadata": {},
   "source": [
    "参照：https://www.infraexpert.com/study/sdn09.html"
   ]
  },
  {
   "attachments": {},
   "cell_type": "markdown",
   "id": "0e1f557c",
   "metadata": {},
   "source": [
    "#### ヘッダー/パラメーターとは\n",
    "HTTPリクエストには、メソッドやURL以外にも、ヘッダーとパラメーターという重要な要素があります。\n",
    "\n",
    "ヘッダーは、リクエストやレスポンスのメタデータを表現するためのものです。これには、リクエストの種類、送信するデータの形式、認証情報などが含まれます。\n",
    "\n",
    "一方、パラメーターは主にGETリクエストで使用され、リクエストの具体的な内容をサーバーに伝えるために使用されます。例えば、ウェブサイトの検索機能を利用するとき、検索キーワードはパラメータとしてURLに付加されてサーバーに送信されます。"
   ]
  },
  {
   "attachments": {},
   "cell_type": "markdown",
   "id": "ab7368a4",
   "metadata": {},
   "source": [
    "通信に成功したかどうかは通信ステータスで確認できます。"
   ]
  },
  {
   "attachments": {},
   "cell_type": "markdown",
   "id": "4184acb8",
   "metadata": {},
   "source": [
    "#### 通信ステータスとは"
   ]
  },
  {
   "attachments": {},
   "cell_type": "markdown",
   "id": "9659ad43",
   "metadata": {},
   "source": [
    "http通信した結果を数字を使って知らせてくれます。\n",
    "例えば、200なら正常に通信を完了したことを知らせてくれますし、404だとそのリクエストしたデータが存在しないかった事を教えてくれます。\n",
    "\n",
    "通信状態の確認に活用しましょう。\n",
    "\n",
    "また一覧はこちらで確認できるので、確認してみましょう！\n",
    "\n",
    "[https://so-zou.jp/software/tech/network/tech/http/status-code/](https://so-zou.jp/software/tech/network/tech/http/status-code/)\n",
    "\n",
    "例）\n",
    "\n",
    "200：OK\n",
    "\n",
    "400：Bad Request\n",
    "\n",
    "502：Bad Gateway\n",
    "\n",
    "など\n",
    "\n"
   ]
  },
  {
   "attachments": {},
   "cell_type": "markdown",
   "id": "940cbe5f",
   "metadata": {},
   "source": [
    "## 2.ここから主にPythonでHTTP通信を通したAPI操作をするための解説↓"
   ]
  },
  {
   "attachments": {},
   "cell_type": "markdown",
   "id": "5488f2c4",
   "metadata": {},
   "source": [
    "### 2.1pythonがhttp通信するために必要なツール"
   ]
  },
  {
   "attachments": {},
   "cell_type": "markdown",
   "id": "1293aafa",
   "metadata": {},
   "source": [
    "Pythonはrequestsというライブラリを利用することで、http経由でデータを取得できるようになります。\n",
    "たとえば、PCならブラウザがないとサイトが見れないのと同様に、pythonであればrequestを利用しないとインターネットを経由して情報を取得できません。"
   ]
  },
  {
   "attachments": {},
   "cell_type": "markdown",
   "id": "df8fd17e",
   "metadata": {},
   "source": [
    "<img src=\"img/img025.png\">"
   ]
  },
  {
   "attachments": {},
   "cell_type": "markdown",
   "id": "2192958c",
   "metadata": {},
   "source": [
    "参照：https://qiita.com/AoiLaurent/items/11fa15093e86ab900626"
   ]
  },
  {
   "attachments": {},
   "cell_type": "markdown",
   "id": "0fa39f5d",
   "metadata": {},
   "source": [
    "### 2.2ライブラリとは"
   ]
  },
  {
   "attachments": {},
   "cell_type": "markdown",
   "id": "bd3ea69a",
   "metadata": {},
   "source": [
    "ライブラリは、他の開発者によって作成されたコードの集まりで、便利な機能を提供する目的で使用されます。\n",
    "\n",
    "PythonでWebアプリケーションを開発する際には、特定の機能を自分でコードを書いて実装することもできますが、すでにその機能を提供するコードが存在する場合は、それを利用することでより簡潔で効率的なコーディングが可能となり、時間と労力の削減に繋がります。\n",
    "\n",
    "Pythonには様々なライブラリが存在しています。\n",
    "\n",
    "例えば、\n",
    "\n",
    "- NumPy\n",
    "- Pandas\n",
    "\n",
    "は数学やデータ処理に関するライブラリであり、\n",
    "\n",
    "- Matplotlib\n",
    "- Seaborn\n",
    "\n",
    "はデータの可視化に特化したライブラリです。\n",
    "\n",
    "また、機械学習に関するライブラリとしては、\n",
    "\n",
    "- Scikit-learn\n",
    "- TensorFlow\n",
    "\n",
    "などが挙げられます。\n",
    "\n",
    "今回の学習では、HTTP通信を実現するための「requests」ライブラリと、JSONという複雑なデータ形式を見やすい構造化されたデータ形式に変換する「pandas」ライブラリを活用します。"
   ]
  },
  {
   "attachments": {},
   "cell_type": "markdown",
   "id": "7461388c",
   "metadata": {},
   "source": [
    "※Pandasのイメージ"
   ]
  },
  {
   "attachments": {},
   "cell_type": "markdown",
   "id": "d757bdbb",
   "metadata": {},
   "source": [
    "<img src=\"img/img026.png\">"
   ]
  },
  {
   "attachments": {},
   "cell_type": "markdown",
   "id": "8088dca4",
   "metadata": {},
   "source": [
    "参照：https://www.nobledesktop.com/learn/python/pandas-overview"
   ]
  },
  {
   "attachments": {},
   "cell_type": "markdown",
   "id": "76bd4cb2",
   "metadata": {},
   "source": [
    "※Seabornのイメージ"
   ]
  },
  {
   "attachments": {},
   "cell_type": "markdown",
   "id": "78f21197",
   "metadata": {},
   "source": [
    "<img src=\"img/img027.png\">"
   ]
  },
  {
   "attachments": {},
   "cell_type": "markdown",
   "id": "35f5460b",
   "metadata": {},
   "source": [
    "参照：https://www.codexa.net/seaborn-python/"
   ]
  },
  {
   "attachments": {},
   "cell_type": "markdown",
   "id": "3e38809d",
   "metadata": {},
   "source": [
    "※サイキットラーンのイメージ"
   ]
  },
  {
   "attachments": {},
   "cell_type": "markdown",
   "id": "3b0352b7",
   "metadata": {},
   "source": [
    "<img src=\"img/img028.jpg\">"
   ]
  },
  {
   "attachments": {},
   "cell_type": "markdown",
   "id": "406834f1",
   "metadata": {},
   "source": [
    "参照：https://udemyfun.com/python-jupyter-scikit-learn/"
   ]
  },
  {
   "attachments": {},
   "cell_type": "markdown",
   "id": "48fe07a5",
   "metadata": {},
   "source": [
    "### 2.3インストール方法"
   ]
  },
  {
   "attachments": {},
   "cell_type": "markdown",
   "id": "ac5f2224",
   "metadata": {},
   "source": [
    "#### pythonのインストール"
   ]
  },
  {
   "attachments": {},
   "cell_type": "markdown",
   "id": "d2bf0c90",
   "metadata": {},
   "source": [
    "windowsの方は公式からDL  \n",
    "環境パスにチェック入れるだけでインストール完了します！\n",
    "https://www.python.jp/install/windows/install.html\n",
    "\n",
    "macはhomebrewからanacondaをインストールしましょう\n",
    "https://www.python.jp/install/anaconda/macos/install.html"
   ]
  },
  {
   "attachments": {},
   "cell_type": "markdown",
   "id": "d6968759",
   "metadata": {},
   "source": [
    "#### ライブラリのインストール"
   ]
  },
  {
   "attachments": {},
   "cell_type": "markdown",
   "id": "353ae199",
   "metadata": {},
   "source": [
    "ライブラリのインストール方法には、「pip」というPythonに付属するライブラリ管理ツールが使用されます。pipが参照するのは、「PyPI」（Python Package Index）と呼ばれる、サードパーティライブラリを管理する場所です。PyPIはコミュニティが運営するレポジトリ（倉庫のような仕組み）であり、多数のライブラリパッケージが登録されています。これらのライブラリは、PyPIから取得してインストールすることができます。"
   ]
  },
  {
   "attachments": {},
   "cell_type": "markdown",
   "id": "4cc63c22",
   "metadata": {},
   "source": [
    "<img style=\"background-color:#fff;\" src=\"img/img029.png\">"
   ]
  },
  {
   "attachments": {},
   "cell_type": "markdown",
   "id": "74bbed87",
   "metadata": {},
   "source": [
    "参照：https://warehouse-camo.ingress.cmh1.psfhosted.org/652ce06228adf7bf12418461ba94507a482a5b05/68747470733a2f2f6769746875622e636f6d2f6a617a7a62616e642f7069702d746f6f6c732f7261772f6d61696e2f696d672f7069702d746f6f6c732d6f766572766965772e737667"
   ]
  },
  {
   "attachments": {},
   "cell_type": "markdown",
   "id": "6d4f9fc1",
   "metadata": {},
   "source": [
    "### 2.4インストールしたライブラリの使い方"
   ]
  },
  {
   "attachments": {},
   "cell_type": "markdown",
   "id": "bf16738a",
   "metadata": {},
   "source": [
    "取得したライブラリは import ライブラリ名 とすることで、その機能を使うことできます！"
   ]
  },
  {
   "attachments": {},
   "cell_type": "markdown",
   "id": "05683fe5",
   "metadata": {},
   "source": [
    "#### 今回HTTP通信に利用するrequest（今後ずっと出てきます"
   ]
  },
  {
   "attachments": {},
   "cell_type": "markdown",
   "id": "659606aa",
   "metadata": {},
   "source": [
    "##### 使い方"
   ]
  },
  {
   "attachments": {},
   "cell_type": "markdown",
   "id": "e90ecfa0",
   "metadata": {},
   "source": [
    "#### HTTPメソッド\n",
    "GETメソッドの例"
   ]
  },
  {
   "cell_type": "code",
   "execution_count": null,
   "id": "8a844770",
   "metadata": {},
   "outputs": [],
   "source": [
    "# Requestsライブラリをインポート\n",
    "import requests\n",
    "\n",
    "# GETリクエストを送信し、レスポンスを受け取る\n",
    "response = requests.get('https://tech0-jp.com')\n",
    "\n",
    "# レスポンスのステータスコードを出力\n",
    "print(response.status_code)\n",
    "\n",
    "# レスポンスの本文（ボディ）を出力\n",
    "print(response.text)\n"
   ]
  },
  {
   "attachments": {},
   "cell_type": "markdown",
   "id": "4afe3967",
   "metadata": {},
   "source": [
    "POSTメソッドの例"
   ]
  },
  {
   "cell_type": "code",
   "execution_count": null,
   "id": "79001eca",
   "metadata": {},
   "outputs": [],
   "source": [
    "# Requestsライブラリをインポート\n",
    "import requests\n",
    "\n",
    "# POSTリクエストのボディに送信するデータ\n",
    "data = {'key': 'value'}\n",
    "\n",
    "# POSTリクエストを送信し、レスポンスを受け取る\n",
    "response = requests.post('https://httpbin.org/post', data=data)\n",
    "\n",
    "# レスポンスのステータスコードを出力\n",
    "print(response.status_code)\n",
    "\n",
    "# レスポンスの本文（ボディ）を出力\n",
    "print(response.text)\n"
   ]
  },
  {
   "attachments": {},
   "cell_type": "markdown",
   "id": "45fe8a90",
   "metadata": {},
   "source": [
    "今回APIの通信で使うライブラリであるrequestsの使い方は  \n",
    "res = requests.get(\"ここにURL\", \"ここにパラメータ\")\n",
    "でアクセスします。"
   ]
  },
  {
   "attachments": {},
   "cell_type": "markdown",
   "id": "3d451611",
   "metadata": {},
   "source": [
    "<img src=\"img/img030.png\">"
   ]
  },
  {
   "attachments": {},
   "cell_type": "markdown",
   "id": "9146efdc",
   "metadata": {},
   "source": [
    "参照：https://www.google.com/url?sa=i&url=https%3A%2F%2Fpythonwife.com%2Frequests-library-in-python%2F&psig=AOvVaw2c3aHGaDAfceFB6KIcuV_h&ust=1682362500913000&source=images&cd=vfe&ved=0CBEQjRxqFwoTCPCRzuvWwP4CFQAAAAAdAAAAABAJ"
   ]
  },
  {
   "attachments": {},
   "cell_type": "markdown",
   "id": "4de24a98",
   "metadata": {},
   "source": [
    "##### リクエストした結果"
   ]
  },
  {
   "attachments": {},
   "cell_type": "markdown",
   "id": "3ff2e0b7",
   "metadata": {},
   "source": [
    "res.status_codeに通信結果のステータスコード  \n",
    "res.textに通信結果の内容が格納されます。"
   ]
  },
  {
   "cell_type": "markdown",
   "id": "0f60087a",
   "metadata": {},
   "source": [
    "#### ヘッダーとは\n",
    "HTTPリクエストには、メソッドやURL以外にも、ヘッダーとパラメーターという重要な要素があります。\n",
    "\n",
    "ヘッダーは、リクエストやレスポンスのメタデータを表現するためのものです。これには、リクエストの種類、送信するデータの形式、認証情報などが含まれます。"
   ]
  },
  {
   "attachments": {},
   "cell_type": "markdown",
   "id": "1cae75ab",
   "metadata": {},
   "source": [
    "##### パラメータとは\n",
    "主にGETリクエストで使用され、リクエストの具体的な内容をサーバーに伝えるために使用されます。例えば、ウェブサイトの検索機能を利用するとき、検索キーワードはパラメータとしてURLに付加されてサーバーに送信されます。\n",
    "\n",
    "GETリクエストを送信する際に必要な情報や選択的な情報を以下にまとめてみます：\n",
    "\n",
    "| 項目 | 説明 | 必須・任意 |\n",
    "|---|---|---|\n",
    "| URL | リクエストを送信する先のURL。 | 必須 |\n",
    "| ヘッダー | リクエストのメタデータ。認証やコンテンツの形式を指定する際などに使います。| 任意 |\n",
    "| パラメータ | URLの末尾に追加される、サーバーへ送るデータ。GETリクエストではURLの末尾に `?key=value` 形式またはparam=辞書形式で追加します。| 任意 |\n"
   ]
  },
  {
   "attachments": {},
   "cell_type": "markdown",
   "id": "8581a92d",
   "metadata": {},
   "source": [
    "パラメータとは、URLとは別にリクエストしたいパラメータを記入する所です。\n",
    "\n",
    "たとえば、https://www.google.com/にアクセスしただけでは、検索はできません。\n",
    "\n",
    "検索内容もリクエストする方法としてパラメータを使います。"
   ]
  },
  {
   "attachments": {},
   "cell_type": "markdown",
   "id": "0248ae6b",
   "metadata": {},
   "source": [
    "<img src=\"img/img037.png\">"
   ]
  },
  {
   "attachments": {},
   "cell_type": "markdown",
   "id": "68bdc211",
   "metadata": {},
   "source": [
    "#### Google検索でやってみる\n",
    "googleで検索すると、URLの後ろにq=\"ここに検索した文字\"が追加されます。これがパラメータです。(https://www.google.com/search?q=\"検索した文字)\n",
    "\n",
    "※googleの検索サーバーではqという文字に検索ワードをリクエストするように指定していますが、これはgoogleが指定しているため、他のサービスでもqとは限りません。\n",
    "\n",
    "ここでは「HTTTP通信」を検索でやってみます。"
   ]
  },
  {
   "cell_type": "markdown",
   "id": "f13b3835",
   "metadata": {},
   "source": [
    "<img src=\"img/img038.png\">"
   ]
  },
  {
   "attachments": {},
   "cell_type": "markdown",
   "id": "e7a3a14a",
   "metadata": {},
   "source": [
    "<img src=\"img/img039.png\">"
   ]
  },
  {
   "attachments": {},
   "cell_type": "markdown",
   "id": "aa0a8a22",
   "metadata": {},
   "source": [
    "#### パラメータが複数あるときは？？\n",
    "複数のパラメータがあるときは、”＆”でつなぐことで表現できます。"
   ]
  },
  {
   "cell_type": "markdown",
   "id": "33c66a46",
   "metadata": {},
   "source": [
    "<img src=\"img/img040.png\">"
   ]
  },
  {
   "attachments": {},
   "cell_type": "markdown",
   "id": "458eae95",
   "metadata": {},
   "source": [
    "#### pythonのコードでやってみる\n",
    "pythonのrequestのライブラリを使った場合はこちらのように表現できる"
   ]
  },
  {
   "attachments": {},
   "cell_type": "markdown",
   "id": "12821e0a",
   "metadata": {},
   "source": [
    "<img src=\"img/img041.png\">"
   ]
  },
  {
   "attachments": {},
   "cell_type": "markdown",
   "id": "1bd035cc",
   "metadata": {},
   "source": [
    "この「q=xxxx」だとわかりづらいので、params(parameters)=[辞書形式]として表現できる"
   ]
  },
  {
   "cell_type": "markdown",
   "id": "3779b078",
   "metadata": {},
   "source": [
    "<img src=\"img/img042.png\">"
   ]
  },
  {
   "attachments": {},
   "cell_type": "markdown",
   "id": "68dd0816",
   "metadata": {},
   "source": [
    "<img src=\"img/img043.png\">"
   ]
  },
  {
   "attachments": {},
   "cell_type": "markdown",
   "id": "82a42929",
   "metadata": {},
   "source": [
    "<img src=\"img/img036.png\">"
   ]
  },
  {
   "attachments": {},
   "cell_type": "markdown",
   "id": "96678b8c",
   "metadata": {},
   "source": [
    "#### ヘッダーの詳細\n",
    "ヘッダーとはHTTTP通信でリクエストを送るときに、認証などで用いるものです。\n",
    "headersの中に\n",
    "- リクエストの種類\n",
    "- 送信するデータの形式（JSONなどの指定\n",
    "- 認証情報\n",
    "\n",
    "などを含めます。\n",
    "\n",
    "headerとparametersはリクエストURLのあとの、第二、第三引数に入れることが通例です。"
   ]
  },
  {
   "attachments": {},
   "cell_type": "markdown",
   "id": "e07db323",
   "metadata": {},
   "source": [
    "<img src=\"img/img044.png\">"
   ]
  },
  {
   "attachments": {},
   "cell_type": "markdown",
   "id": "bbc4a044",
   "metadata": {},
   "source": [
    "<img src=\"img/img045.png\">"
   ]
  },
  {
   "attachments": {},
   "cell_type": "markdown",
   "id": "a76f6313",
   "metadata": {},
   "source": [
    "#### Pythonの実際のコードでみていきます"
   ]
  },
  {
   "cell_type": "code",
   "execution_count": null,
   "id": "254cf27d",
   "metadata": {},
   "outputs": [],
   "source": [
    "# Requestsライブラリをインポート\n",
    "import requests\n",
    "\n",
    "# パラメータの定義\n",
    "parameters = {\n",
    "    'q': 'python programming',\n",
    "    'lr': 'lang_ja'  # 日本語の検索結果だけを表示させる\n",
    "}\n",
    "\n",
    "# GETリクエストを送信し、レスポンスを受け取る\n",
    "response = requests.get('http://www.google.com/search', params=parameters)"
   ]
  },
  {
   "cell_type": "code",
   "execution_count": null,
   "id": "4f36c543",
   "metadata": {},
   "outputs": [],
   "source": [
    "# Requestsライブラリをインポート\n",
    "import requests\n",
    "\n",
    "# ヘッダーの定義\n",
    "headers = {\n",
    "    'User-Agent': 'My User Agent 1.0',\n",
    "    'Accept': 'application/json',\n",
    "}\n",
    "\n",
    "# パラメータの定義\n",
    "params = {\n",
    "    'key1': 'value1',\n",
    "    'key2': 'value2',\n",
    "}\n",
    "\n",
    "# GETリクエストを送信し、レスポンスを受け取る\n",
    "response = requests.get('https://httpbin.org/get', headers=headers, params=params)\n",
    "\n",
    "# レスポンスのステータスコードを出力\n",
    "print(response.status_code)\n",
    "\n",
    "# レスポンスの本文（ボディ）を出力\n",
    "print(response.text)\n"
   ]
  },
  {
   "attachments": {},
   "cell_type": "markdown",
   "id": "de0f78cb",
   "metadata": {},
   "source": [
    "<img src=\"img/img031.png\">"
   ]
  },
  {
   "attachments": {},
   "cell_type": "markdown",
   "id": "5ce28b02",
   "metadata": {},
   "source": [
    "### 2.5もう少し詳しい説明\n",
    "\n",
    "#### Requestの実際の使い方−Pythonで認証が必要なサイトへのアクセス(難しいので飛ばしてOK)\n",
    "\n",
    "ウェブ上の多くのリソースは認証を必要とします。認証とは、あなたがあなたであることを証明する手段のことです。これにはパスワードを使った認証や、OAuthなどのより複雑な認証プロトコルがあります。\n",
    "\n",
    "Requestsライブラリでは、requests.get()またはその他のメソッドを呼び出す際に、auth引数を使って認証情報を提供することができます。基本的なユーザー名とパスワードの組み合わせで認証する場合、RequestsライブラリはHTTP Basic Authをサポートしています。"
   ]
  },
  {
   "cell_type": "code",
   "execution_count": null,
   "id": "309136cb",
   "metadata": {},
   "outputs": [],
   "source": [
    "from requests.auth import HTTPBasicAuth\n",
    "import requests\n",
    "\n",
    "response = requests.get('https://httpbin.org/basic-auth/user/password', auth=HTTPBasicAuth('user', 'password'))\n",
    "\n",
    "print(response.text)\n"
   ]
  },
  {
   "attachments": {},
   "cell_type": "markdown",
   "id": "95bc13ae",
   "metadata": {},
   "source": [
    "ユーザー名とパスワードのペアを作成し、これをrequests.get()のauth引数に渡しています。\n",
    "\n",
    "これにより、HTTPリクエストにはBasic Authの認証ヘッダーが追加され、きちんとアクセスすることができます"
   ]
  },
  {
   "attachments": {},
   "cell_type": "markdown",
   "id": "50da7bf2",
   "metadata": {},
   "source": [
    "#### PythonにおけるPostメソッド\n",
    "Getメソッドと違いPostメソッドでは、クライアントがサーバーに情報を送信するために使用されます。フォームのデータの送信や、アカウントの作成などが一般的な例です。\n",
    "\n",
    "POSTリクエストの特徴は、リクエスト情報（通常は「ペイロード」または「ボディ」と呼ばれます）がリクエストボディに含まれて送信されることです。これにより、大きなデータや複雑なデータ構造（例えば、JSONオブジェクト）も送信することが可能となります。"
   ]
  },
  {
   "attachments": {},
   "cell_type": "markdown",
   "id": "ee354c65",
   "metadata": {},
   "source": [
    "#### POSTメソッド\n",
    "一方、POSTメソッドは、クライアントがサーバーに情報を送信するために使用されます。フォームのデータの送信や、アカウントの作成などが一般的な例です。\n",
    "\n",
    "POSTリクエストの特徴は、リクエスト情報（通常は「ペイロード」または「ボディ」と呼ばれます）がリクエストボディに含まれて送信されることです。これにより、大きなデータや複雑なデータ構造（例えば、JSONオブジェクト）も送信することが可能となります。\n",
    "\n",
    "#### 主な違い\n",
    "これらのメソッドの主な違いは、リクエストデータの送信方法と使用目的にあります。\n",
    "\n",
    "GETは情報を取得するために使われ、リクエスト情報はURLの一部として送信されます。これにより、リクエストはブックマークしたり、URLを直接共有したりすることが可能です。ただし、URLの長さには制限があるため、大量のデータを送信することはできません。\n",
    "\n",
    "POSTは情報を送信するために使われ、リクエスト情報はリクエストボディ内に送信されます。これにより、大きなデータ量や複雑なデータ構造の送信が可能となります。ただし、POSTリクエストはブックマークや共有が困難となります。\n",
    "\n",
    "また、GETリクエストは安全性（サーバーの状態を変更しない）と冪等性（同じリクエストを何度行っても同じ結果になる）を持つべきとされていますが、POSTリクエストはこれらの性質を必ずしも持つとは限りません。これは、POSTがデータの作成や更新といったサーバーの状態を変更する操作によく用いられるためです。\n",
    "\n",
    "POSTメソッドを使用してHTTPリクエストを送信するときの主な要素としては、次のものがあります。\n",
    "\n",
    "|要素|説明|必須/任意|\n",
    "|---|---|---|\n",
    "|URL|リクエスト先のサーバーのアドレス。通常は「https://...」といった形式で記述します。|必須|\n",
    "|ヘッダー|リクエストに関するメタデータを指定します。例えば、「Content-Type」ヘッダーでは、送信するデータの形式（JSONやHTMLなど）を指定します。|任意|\n",
    "|ボディ|リクエストの主な内容。POSTリクエストでは、このボディ部分にデータ（情報）が含まれます。例えば、フォームのデータやJSON形式のデータなどが含まれます。|必須|\n",
    "\n",
    "POSTメソッドを使用する際の注意点は次の通りです。\n",
    "\n",
    "1. **データの形式を正しく指定する**: ヘッダーの「Content-Type」を適切に設定することで、サーバー側は送られてきたデータの形式を理解し、適切に処理することができます。\n",
    "\n",
    "2. **機密情報の安全性を保つ**: POSTメソッドは、機密情報（例えば、パスワードや個人情報）を送信するために使用されることがあります。そのため、情報を適切に暗号化したり、安全な通信チャネル（HTTPSなど）を通じて送信することが重要です。\n",
    "\n",
    "\n",
    "このコードでは、`requests.post`メソッドを使用してPOSTリクエストを送信しています。このメソッドは、URL、ヘッダー、そしてデータ（ボディ）を引数として受け取ります。"
   ]
  },
  {
   "cell_type": "code",
   "execution_count": 1,
   "id": "8b355032",
   "metadata": {},
   "outputs": [
    {
     "name": "stdout",
     "output_type": "stream",
     "text": [
      "{\n",
      "  \"args\": {}, \n",
      "  \"data\": \"{\\\"name\\\": \\\"John\\\", \\\"age\\\": 30}\", \n",
      "  \"files\": {}, \n",
      "  \"form\": {}, \n",
      "  \"headers\": {\n",
      "    \"Accept\": \"*/*\", \n",
      "    \"Accept-Encoding\": \"gzip, deflate\", \n",
      "    \"Content-Length\": \"27\", \n",
      "    \"Content-Type\": \"application/json\", \n",
      "    \"Host\": \"httpbin.org\", \n",
      "    \"User-Agent\": \"python-requests/2.31.0\", \n",
      "    \"X-Amzn-Trace-Id\": \"Root=1-64a2726a-311b7a4c57ac04b15257139c\"\n",
      "  }, \n",
      "  \"json\": {\n",
      "    \"age\": 30, \n",
      "    \"name\": \"John\"\n",
      "  }, \n",
      "  \"origin\": \"219.59.84.234\", \n",
      "  \"url\": \"https://httpbin.org/post\"\n",
      "}\n",
      "\n"
     ]
    }
   ],
   "source": [
    "# PythonでのPOSTメソッドのサンプルコードは以下の通りです。\n",
    "\n",
    "import requests\n",
    "import json\n",
    "\n",
    "url = 'https://httpbin.org/post'  # リクエスト先のURL\n",
    "\n",
    "headers = {\n",
    "    'Content-Type': 'application/json'  # ヘッダーにContent-Typeを設定\n",
    "}\n",
    "\n",
    "data = {  # リクエストボディのデータ\n",
    "    'name': 'John',\n",
    "    'age': 30\n",
    "}\n",
    "\n",
    "response = requests.post(url, headers=headers, data=json.dumps(data))  # POSTリクエストを送信\n",
    "\n",
    "print(response.text)  # レスポンスを出力"
   ]
  },
  {
   "attachments": {},
   "cell_type": "markdown",
   "id": "eef33c4b",
   "metadata": {},
   "source": [
    "### 2.6.エラーハンドリング：リクエストの失敗とエラーの対処法\n",
    "\n",
    "HTTPリクエストは様々な理由で失敗することがあります。\n",
    "たとえば、ネットワークの接続が不安定だったり、指定したURLが存在しない場合、サーバーがダウンしていたりすると、リクエストは失敗します。\n",
    "このような状況に対処するためには、エラーハンドリングが必要となります。\n",
    "\n",
    "Requestsライブラリでは、レスポンスオブジェクトの`raise_for_status()`メソッドを使用してHTTPエラーステータスコードをチェックすることができます。\n",
    "このメソッドは、レスポンスのステータスコードが成功を示すもの（200番台）でない場合、例外を発生させます。\n",
    "\n",
    "\n"
   ]
  },
  {
   "cell_type": "code",
   "execution_count": null,
   "id": "70cf57fe",
   "metadata": {},
   "outputs": [],
   "source": [
    "import requests\n",
    "\n",
    "try:\n",
    "    response = requests.get('https://httpbin.org/status/404')\n",
    "    response.raise_for_status()\n",
    "except requests.exceptions.HTTPError as err:\n",
    "    print(f'HTTP error occurred: {err}')\n",
    "\n"
   ]
  },
  {
   "attachments": {},
   "cell_type": "markdown",
   "id": "e0b16513",
   "metadata": {},
   "source": [
    "このコードでは、存在しないURLに対してGETリクエストを送信しています。このリクエストは404エラー（Not Found）を引き起こします。`raise_for_status()`メソッドはこのエラーステータスを検出し、`requests.exceptions.HTTPError`例外を発生させます。\n",
    "\n",
    "この例外は`try/except`ブロックで捕捉され、エラーメッセージが表示されます。\n",
    "\n",
    "### 2.7データの解析：取得したデータをどのように利用するか\n",
    "\n",
    "HTTPリクエストを使ってデータを取得した後は、そのデータを解析して何らかの形で利用することが多くなります。\n",
    "\n",
    "データがどのような形式で提供されるかは、リクエストしたリソースやサービスによりますが、一般的にはJSON(やXMLなど)の形式で提供されることが多いです。\n",
    "\n",
    "RequestsライブラリはJSONレスポンスを簡単に解析するためのメソッドを提供しています。\n",
    "レスポンスオブジェクトの`json()`メソッドを呼び出すと、レスポンスボディのJSONコンテンツがPythonのデータ構造（辞書、リスト、数値、文字列など）に変換されます。\n",
    "\n"
   ]
  },
  {
   "cell_type": "code",
   "execution_count": null,
   "id": "d1505887",
   "metadata": {},
   "outputs": [],
   "source": [
    "import requests\n",
    "\n",
    "response = requests.get('https://httpbin.org/get')\n",
    "data = response.json()\n",
    "\n",
    "print(data)"
   ]
  },
  {
   "attachments": {},
   "cell_type": "markdown",
   "id": "df55ff09",
   "metadata": {},
   "source": [
    "このコードでは、https://httpbin.org/getからのレスポンスを取得し、`json()`メソッドを使ってJSONレスポンスをPythonの辞書に変換しています。その結果を表示すると、リクエストの詳細な情報（メソッド、URL、ヘッダーなど）が含まれていることがわかります。\n",
    "\n",
    "以上がPythonとRequestsライブラリを使ったHTTP通信の基本的な手順となります。この知識をベースに、さまざまなWebサービスとのインタラクションをコーディングできるようになるはずです。"
   ]
  },
  {
   "attachments": {},
   "cell_type": "markdown",
   "id": "239ccc5c",
   "metadata": {},
   "source": [
    "### 2.8HTTP通信を通したAPIで大事なこと\n",
    "- どこにデータを投げるか（エンドポイント\n",
    "- どうやって投げるか\n",
    "- どんなデータを投げ、どんなデータが返ってくるか"
   ]
  },
  {
   "attachments": {},
   "cell_type": "markdown",
   "id": "5b2743cd",
   "metadata": {},
   "source": [
    "### 課題"
   ]
  },
  {
   "attachments": {},
   "cell_type": "markdown",
   "id": "f9e75b6e",
   "metadata": {},
   "source": [
    "- ステータスコードでよく使うものをまとめてください\n",
    "- GetとPostの違いを表にまとめてください\n",
    "- PythonのRequestのライブラリを使い、Googleの検索サーバーで”自分の会社”について、Getでアクセスし、データを取得してください\n",
    "- pythonのrequestのライブラリで、headerに”データ形式JSON”を、parameterに”PythonによるHTTTP通信”を入れて、GoogleのURLにGetメソッドでアクセスし、ステータスコードとレスポンス結果を表示してください"
   ]
  },
  {
   "cell_type": "markdown",
   "id": "81253e4e",
   "metadata": {},
   "source": []
  }
 ],
 "metadata": {
  "kernelspec": {
   "display_name": "tech0",
   "language": "python",
   "name": "python3"
  },
  "language_info": {
   "codemirror_mode": {
    "name": "ipython",
    "version": 3
   },
   "file_extension": ".py",
   "mimetype": "text/x-python",
   "name": "python",
   "nbconvert_exporter": "python",
   "pygments_lexer": "ipython3",
   "version": "3.8.16"
  },
  "vscode": {
   "interpreter": {
    "hash": "14498c2693dbacc748b33ada8a31e4cf5c4288efbd86c8d200c58bb6fc8893c8"
   }
  }
 },
 "nbformat": 4,
 "nbformat_minor": 5
}
